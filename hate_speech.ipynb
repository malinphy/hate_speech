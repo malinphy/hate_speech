{
  "nbformat": 4,
  "nbformat_minor": 0,
  "metadata": {
    "colab": {
      "name": "hate_speech.ipynb",
      "provenance": [],
      "collapsed_sections": [],
      "include_colab_link": true
    },
    "kernelspec": {
      "display_name": "Python 3",
      "language": "python",
      "name": "python3"
    },
    "language_info": {
      "codemirror_mode": {
        "name": "ipython",
        "version": 3
      },
      "file_extension": ".py",
      "mimetype": "text/x-python",
      "name": "python",
      "nbconvert_exporter": "python",
      "pygments_lexer": "ipython3",
      "version": "3.8.3"
    },
    "accelerator": "GPU"
  },
  "cells": [
    {
      "cell_type": "markdown",
      "metadata": {
        "id": "view-in-github",
        "colab_type": "text"
      },
      "source": [
        "<a href=\"https://colab.research.google.com/github/malinphy/hate_speech/blob/main/hate_speech.ipynb\" target=\"_parent\"><img src=\"https://colab.research.google.com/assets/colab-badge.svg\" alt=\"Open In Colab\"/></a>"
      ]
    },
    {
      "cell_type": "code",
      "metadata": {
        "id": "pQ2fMzbzx-Bn"
      },
      "source": [
        "import pandas as pd \n",
        "import numpy as np \n",
        "import matplotlib.pyplot as plt \n",
        "import seaborn  as sns\n",
        "import re\n",
        "import nltk\n",
        "from nltk.stem import PorterStemmer\n",
        "from nltk.tokenize import sent_tokenize, word_tokenize\n",
        "from collections import Counter\n",
        "from nltk.corpus import stopwords \n",
        "from nltk.tokenize import word_tokenize "
      ],
      "execution_count": 1,
      "outputs": []
    },
    {
      "cell_type": "code",
      "metadata": {
        "id": "T_Ti6TzzKriR"
      },
      "source": [
        "url = 'https://raw.githubusercontent.com/t-davidson/hate-speech-and-offensive-language/master/data/labeled_data.csv'\n",
        "\n",
        "df = pd.read_csv(url)\n",
        "\n",
        " "
      ],
      "execution_count": 2,
      "outputs": []
    },
    {
      "cell_type": "code",
      "metadata": {
        "id": "IkaEzDor5J0J",
        "outputId": "664a0f1d-34e4-4622-cdda-2a078aee80c3",
        "colab": {
          "base_uri": "https://localhost:8080/",
          "height": 144
        }
      },
      "source": [
        "df.head(3)"
      ],
      "execution_count": 3,
      "outputs": [
        {
          "output_type": "execute_result",
          "data": {
            "text/html": [
              "<div>\n",
              "<style scoped>\n",
              "    .dataframe tbody tr th:only-of-type {\n",
              "        vertical-align: middle;\n",
              "    }\n",
              "\n",
              "    .dataframe tbody tr th {\n",
              "        vertical-align: top;\n",
              "    }\n",
              "\n",
              "    .dataframe thead th {\n",
              "        text-align: right;\n",
              "    }\n",
              "</style>\n",
              "<table border=\"1\" class=\"dataframe\">\n",
              "  <thead>\n",
              "    <tr style=\"text-align: right;\">\n",
              "      <th></th>\n",
              "      <th>Unnamed: 0</th>\n",
              "      <th>count</th>\n",
              "      <th>hate_speech</th>\n",
              "      <th>offensive_language</th>\n",
              "      <th>neither</th>\n",
              "      <th>class</th>\n",
              "      <th>tweet</th>\n",
              "    </tr>\n",
              "  </thead>\n",
              "  <tbody>\n",
              "    <tr>\n",
              "      <th>0</th>\n",
              "      <td>0</td>\n",
              "      <td>3</td>\n",
              "      <td>0</td>\n",
              "      <td>0</td>\n",
              "      <td>3</td>\n",
              "      <td>2</td>\n",
              "      <td>!!! RT @mayasolovely: As a woman you shouldn't...</td>\n",
              "    </tr>\n",
              "    <tr>\n",
              "      <th>1</th>\n",
              "      <td>1</td>\n",
              "      <td>3</td>\n",
              "      <td>0</td>\n",
              "      <td>3</td>\n",
              "      <td>0</td>\n",
              "      <td>1</td>\n",
              "      <td>!!!!! RT @mleew17: boy dats cold...tyga dwn ba...</td>\n",
              "    </tr>\n",
              "    <tr>\n",
              "      <th>2</th>\n",
              "      <td>2</td>\n",
              "      <td>3</td>\n",
              "      <td>0</td>\n",
              "      <td>3</td>\n",
              "      <td>0</td>\n",
              "      <td>1</td>\n",
              "      <td>!!!!!!! RT @UrKindOfBrand Dawg!!!! RT @80sbaby...</td>\n",
              "    </tr>\n",
              "  </tbody>\n",
              "</table>\n",
              "</div>"
            ],
            "text/plain": [
              "   Unnamed: 0  count  ...  class                                              tweet\n",
              "0           0      3  ...      2  !!! RT @mayasolovely: As a woman you shouldn't...\n",
              "1           1      3  ...      1  !!!!! RT @mleew17: boy dats cold...tyga dwn ba...\n",
              "2           2      3  ...      1  !!!!!!! RT @UrKindOfBrand Dawg!!!! RT @80sbaby...\n",
              "\n",
              "[3 rows x 7 columns]"
            ]
          },
          "metadata": {
            "tags": []
          },
          "execution_count": 3
        }
      ]
    },
    {
      "cell_type": "code",
      "metadata": {
        "id": "aDrQXnUq0eOj",
        "outputId": "122a56d2-9e04-481b-b0ca-cf9f4fdcff08",
        "colab": {
          "base_uri": "https://localhost:8080/"
        }
      },
      "source": [
        "df.info()"
      ],
      "execution_count": 4,
      "outputs": [
        {
          "output_type": "stream",
          "text": [
            "<class 'pandas.core.frame.DataFrame'>\n",
            "RangeIndex: 24783 entries, 0 to 24782\n",
            "Data columns (total 7 columns):\n",
            " #   Column              Non-Null Count  Dtype \n",
            "---  ------              --------------  ----- \n",
            " 0   Unnamed: 0          24783 non-null  int64 \n",
            " 1   count               24783 non-null  int64 \n",
            " 2   hate_speech         24783 non-null  int64 \n",
            " 3   offensive_language  24783 non-null  int64 \n",
            " 4   neither             24783 non-null  int64 \n",
            " 5   class               24783 non-null  int64 \n",
            " 6   tweet               24783 non-null  object\n",
            "dtypes: int64(6), object(1)\n",
            "memory usage: 1.3+ MB\n"
          ],
          "name": "stdout"
        }
      ]
    },
    {
      "cell_type": "markdown",
      "metadata": {
        "id": "stU7aRQDK6WG",
        "outputId": "1ab42526-2721-4833-809f-bc1be0ceb5a8"
      },
      "source": [
        "plt.hist(df['hate_speech'])"
      ]
    },
    {
      "cell_type": "markdown",
      "metadata": {
        "id": "DL1CVGYELtnq",
        "outputId": "6bc31851-5ec7-43d2-ba64-ce6a5986964b"
      },
      "source": [
        "plt.hist(df['count'])"
      ]
    },
    {
      "cell_type": "markdown",
      "metadata": {
        "id": "Od0TON8sM9e3",
        "outputId": "63788a65-3822-419e-ddb1-89310f8720ac"
      },
      "source": [
        "plt.hist(df['offensive_language'])"
      ]
    },
    {
      "cell_type": "code",
      "metadata": {
        "id": "baoy0Zt-c4Dx"
      },
      "source": [
        "tweets_mali = df['tweet'].copy()\n",
        "tweets = df.tweet"
      ],
      "execution_count": 5,
      "outputs": []
    },
    {
      "cell_type": "code",
      "metadata": {
        "id": "uQJsw1sdqdZA"
      },
      "source": [
        "def word_counter(x):\n",
        "    \n",
        "    splitter = []\n",
        "    for i in x:\n",
        "        var1 = i.split()\n",
        "        for j in var1:\n",
        "            splitter.append(j)\n",
        "            \n",
        "    word_number_count = Counter(splitter).most_common()\n",
        "    \n",
        "    words = []\n",
        "    words_number = []\n",
        "    \n",
        "    for i in word_number_count:\n",
        "        words.append(i[0])\n",
        "        words_number.append(i[1])\n",
        "    \n",
        "    \n",
        "    words = words[0:50]\n",
        "    words_number = words_number[0:50]\n",
        "    return words,words_number"
      ],
      "execution_count": 6,
      "outputs": []
    },
    {
      "cell_type": "code",
      "metadata": {
        "id": "Z3I2E9r-qdZO",
        "outputId": "09b3495f-cc93-4ed3-b6c4-d90ab6199d3a",
        "colab": {
          "base_uri": "https://localhost:8080/",
          "height": 693
        }
      },
      "source": [
        "X,y = word_counter(tweets)\n",
        "plt.figure(figsize=(15,10))\n",
        "sns.barplot(X,y, palette=\"Reds_r\")\n",
        "plt.xticks(rotation=90)\n",
        "plt.show"
      ],
      "execution_count": 7,
      "outputs": [
        {
          "output_type": "stream",
          "text": [
            "/usr/local/lib/python3.6/dist-packages/seaborn/_decorators.py:43: FutureWarning: Pass the following variables as keyword args: x, y. From version 0.12, the only valid positional argument will be `data`, and passing other arguments without an explicit keyword will result in an error or misinterpretation.\n",
            "  FutureWarning\n"
          ],
          "name": "stderr"
        },
        {
          "output_type": "execute_result",
          "data": {
            "text/plain": [
              "<function matplotlib.pyplot.show>"
            ]
          },
          "metadata": {
            "tags": []
          },
          "execution_count": 7
        },
        {
          "output_type": "display_data",
          "data": {
            "image/png": "[encoded data removed]",
            "text/plain": [
              "<Figure size 1080x720 with 1 Axes>"
            ]
          },
          "metadata": {
            "tags": [],
            "needs_background": "light"
          }
        }
      ]
    },
    {
      "cell_type": "code",
      "metadata": {
        "id": "laMlNc6HylvU"
      },
      "source": [
        "numberOfWords = [] \n",
        "\n",
        "for i in range(len(tweets)):\n",
        "    x = len(tweets_mali[i].split())\n",
        "    numberOfWords.append(x)"
      ],
      "execution_count": 8,
      "outputs": []
    },
    {
      "cell_type": "code",
      "metadata": {
        "id": "av5t3TUIzCAf",
        "outputId": "ae694068-d059-4bd1-c382-c5996c54b495",
        "colab": {
          "base_uri": "https://localhost:8080/",
          "height": 588
        }
      },
      "source": [
        "plt.figure(figsize=(12,8))\n",
        "sns.distplot(numberOfWords, 50  , color=\"red\")\n",
        "plt.xlabel('Length of a sample')\n",
        "plt.ylabel('Number of samples')\n",
        "plt.title('Sample length distribution')\n",
        "#plt.xlim([-100,6000])"
      ],
      "execution_count": 9,
      "outputs": [
        {
          "output_type": "stream",
          "text": [
            "/usr/local/lib/python3.6/dist-packages/seaborn/distributions.py:2551: FutureWarning: `distplot` is a deprecated function and will be removed in a future version. Please adapt your code to use either `displot` (a figure-level function with similar flexibility) or `histplot` (an axes-level function for histograms).\n",
            "  warnings.warn(msg, FutureWarning)\n"
          ],
          "name": "stderr"
        },
        {
          "output_type": "execute_result",
          "data": {
            "text/plain": [
              "Text(0.5, 1.0, 'Sample length distribution')"
            ]
          },
          "metadata": {
            "tags": []
          },
          "execution_count": 9
        },
        {
          "output_type": "display_data",
          "data": {
            "image/png": "[encoded data removed]",
            "text/plain": [
              "<Figure size 864x576 with 1 Axes>"
            ]
          },
          "metadata": {
            "tags": [],
            "needs_background": "light"
          }
        }
      ]
    },
    {
      "cell_type": "code",
      "metadata": {
        "id": "mnAfjq1Srtw6"
      },
      "source": [
        "for i in range(len(tweets)):\n",
        "    tweets_mali[i] = re.sub(r'\\w+:\\/{2}[\\d\\w-]+(\\.[\\d\\w-]+)*(?:(?:\\/[^\\s/]*))*', '', tweets_mali[i]) # regex command to strip url links\n",
        "    tweets_mali[i] = re.sub('\\s+', ' ',tweets_mali[i]) # regex command to rearrange space pattern\n",
        "    tweets_mali[i] = re.sub('@[\\w\\-]+','',tweets_mali[i]) # regex command to strip the mentions \n",
        "    \n",
        "    RT_pattern = []\n",
        "    \n",
        "for i in range(len(tweets)):\n",
        "    x = re.findall(\":\",tweets_mali[i])\n",
        "    if x == [':']:\n",
        "        RT_pattern.append(i)\n",
        "    \n",
        "for i in (RT_pattern):\n",
        "    # regex command to strip the RT!! pattern\n",
        "    tweets_mali[i] = re.split(\":\",tweets_mali[i])[1]\n",
        "    \n",
        "for i in range (len(tweets)):\n",
        "    tweets_mali[i] = re.sub(\"!|@|[.]|:|,|[0-9]|#|&|;|[|]|[\\\"]\", \"\",tweets_mali[i])\n",
        "    tweets_mali[i] = tweets_mali[i].lower()\n",
        "    #tweets_mali[i] = re.sub(\"[0-9],\",tweets_mali[i]\")"
      ],
      "execution_count": 10,
      "outputs": []
    },
    {
      "cell_type": "code",
      "metadata": {
        "id": "Bggc7iV_zB8F",
        "outputId": "395f385a-bd22-4038-e9aa-8891c6cdca98",
        "colab": {
          "base_uri": "https://localhost:8080/",
          "height": 693
        }
      },
      "source": [
        "X_clean,y_clean = word_counter(tweets_mali)\n",
        "\n",
        "plt.figure(figsize=(15,10))\n",
        "sns.barplot(X_clean,y_clean, palette=\"Reds_r\")\n",
        "plt.xticks(rotation=90)\n",
        "plt.show"
      ],
      "execution_count": 11,
      "outputs": [
        {
          "output_type": "stream",
          "text": [
            "/usr/local/lib/python3.6/dist-packages/seaborn/_decorators.py:43: FutureWarning: Pass the following variables as keyword args: x, y. From version 0.12, the only valid positional argument will be `data`, and passing other arguments without an explicit keyword will result in an error or misinterpretation.\n",
            "  FutureWarning\n"
          ],
          "name": "stderr"
        },
        {
          "output_type": "execute_result",
          "data": {
            "text/plain": [
              "<function matplotlib.pyplot.show>"
            ]
          },
          "metadata": {
            "tags": []
          },
          "execution_count": 11
        },
        {
          "output_type": "display_data",
          "data": {
            "image/png": "[encoded data removed]",
            "text/plain": [
              "<Figure size 1080x720 with 1 Axes>"
            ]
          },
          "metadata": {
            "tags": [],
            "needs_background": "light"
          }
        }
      ]
    },
    {
      "cell_type": "code",
      "metadata": {
        "id": "s61KUDXxqdd8",
        "outputId": "a3c478dc-7256-4507-b8d9-d243062c1f15",
        "colab": {
          "base_uri": "https://localhost:8080/",
          "height": 625
        }
      },
      "source": [
        "## BU FONKSIYONDA MEAN DEGERLERINI HESAPLAMAK GEREK DAHA SONRA HESAPLANAN MEAN DEGERLERIYLE GRAFIKTEN ELDE EDILEN \n",
        "## PEAK DEGERLERININ YAKINLIGINI KARSILASTIR.\n",
        "\n",
        "\n",
        "plt.figure(figsize=(12,8))\n",
        "sns.distplot([len(s) for s in tweets], 40  , color=\"purple\")\n",
        "sns.distplot([len(a) for a in tweets_mali], 40  , color=\"orange\")\n",
        "plt.xlabel('Length of a sample')\n",
        "plt.ylabel('Number of samples')\n",
        "plt.title('Sample length distribution')\n",
        "plt.xlim([-20,250])\n",
        "plt.legend(['Raw Data','Processed Data'])"
      ],
      "execution_count": 12,
      "outputs": [
        {
          "output_type": "stream",
          "text": [
            "/usr/local/lib/python3.6/dist-packages/seaborn/distributions.py:2551: FutureWarning: `distplot` is a deprecated function and will be removed in a future version. Please adapt your code to use either `displot` (a figure-level function with similar flexibility) or `histplot` (an axes-level function for histograms).\n",
            "  warnings.warn(msg, FutureWarning)\n",
            "/usr/local/lib/python3.6/dist-packages/seaborn/distributions.py:2551: FutureWarning: `distplot` is a deprecated function and will be removed in a future version. Please adapt your code to use either `displot` (a figure-level function with similar flexibility) or `histplot` (an axes-level function for histograms).\n",
            "  warnings.warn(msg, FutureWarning)\n"
          ],
          "name": "stderr"
        },
        {
          "output_type": "execute_result",
          "data": {
            "text/plain": [
              "<matplotlib.legend.Legend at 0x7fd915a865f8>"
            ]
          },
          "metadata": {
            "tags": []
          },
          "execution_count": 12
        },
        {
          "output_type": "display_data",
          "data": {
            "image/png": "[encoded data removed]",
            "text/plain": [
              "<Figure size 864x576 with 1 Axes>"
            ]
          },
          "metadata": {
            "tags": [],
            "needs_background": "light"
          }
        }
      ]
    },
    {
      "cell_type": "code",
      "metadata": {
        "id": "RcZ245L8zB4g"
      },
      "source": [
        "import tensorflow as tf \n",
        "from tensorflow import keras\n",
        "from tensorflow.keras import Sequential\n",
        "from tensorflow.keras import layers\n",
        "from tensorflow.keras.preprocessing.text import Tokenizer\n",
        "from tensorflow.keras.preprocessing.sequence import pad_sequences"
      ],
      "execution_count": 13,
      "outputs": []
    },
    {
      "cell_type": "code",
      "metadata": {
        "id": "U8R_8WrquebO"
      },
      "source": [
        "tweets_mali_tokenizer  = Tokenizer()\n",
        "tweets_mali_tokenizer.fit_on_texts(tweets_mali)\n",
        "tweets_mali_word_index = tweets_mali_tokenizer.word_index"
      ],
      "execution_count": 14,
      "outputs": []
    },
    {
      "cell_type": "code",
      "metadata": {
        "id": "eVxaAF-CwsL1",
        "outputId": "4a3a28a1-edd4-4e29-80a7-0e0faeb0dab1",
        "colab": {
          "base_uri": "https://localhost:8080/"
        }
      },
      "source": [
        "len(tweets_mali_word_index)"
      ],
      "execution_count": 15,
      "outputs": [
        {
          "output_type": "execute_result",
          "data": {
            "text/plain": [
              "21570"
            ]
          },
          "metadata": {
            "tags": []
          },
          "execution_count": 15
        }
      ]
    },
    {
      "cell_type": "code",
      "metadata": {
        "id": "Feexvj1o07CP"
      },
      "source": [
        "tweets_mali_token_sequence = tweets_mali_tokenizer.texts_to_sequences(tweets_mali)"
      ],
      "execution_count": 16,
      "outputs": []
    },
    {
      "cell_type": "code",
      "metadata": {
        "id": "vLXXXtPIqdfN"
      },
      "source": [
        "tweets_mali_padded  = pad_sequences(tweets_mali_token_sequence, padding='post')"
      ],
      "execution_count": 17,
      "outputs": []
    },
    {
      "cell_type": "code",
      "metadata": {
        "id": "jJ-zhXF0qdfa",
        "outputId": "02f3ecfa-9ad3-4125-cf12-8b9f9b0b289d",
        "colab": {
          "base_uri": "https://localhost:8080/"
        }
      },
      "source": [
        "tweets_mali_padded.shape"
      ],
      "execution_count": 18,
      "outputs": [
        {
          "output_type": "execute_result",
          "data": {
            "text/plain": [
              "(24783, 33)"
            ]
          },
          "metadata": {
            "tags": []
          },
          "execution_count": 18
        }
      ]
    },
    {
      "cell_type": "code",
      "metadata": {
        "id": "hXruPGWZqdfi"
      },
      "source": [
        "from sklearn.model_selection import train_test_split"
      ],
      "execution_count": 19,
      "outputs": []
    },
    {
      "cell_type": "code",
      "metadata": {
        "id": "2-2MRsfkqdfy"
      },
      "source": [
        "X_train,X_test,y_train, y_test = train_test_split (tweets_mali_padded, \n",
        "                                                   df['class'], \n",
        "                                                   train_size = 0.8 , \n",
        "                                                   random_state=42)"
      ],
      "execution_count": 20,
      "outputs": []
    },
    {
      "cell_type": "code",
      "metadata": {
        "id": "OL8swN5zqdgD"
      },
      "source": [
        "tweets_model = tf.keras.Sequential([\n",
        "    \n",
        "    tf.keras.layers.Dense (1024, activation = 'relu'),\n",
        "    tf.keras.layers.Dense (512,activation = 'relu'),\n",
        "    tf.keras.layers.Dense (256,activation = 'tanh'),\n",
        "    \n",
        "    tf.keras.layers.Dense(3,activation='softmax')\n",
        "])"
      ],
      "execution_count": 64,
      "outputs": []
    },
    {
      "cell_type": "code",
      "metadata": {
        "id": "oPIWCHTiqdgS"
      },
      "source": [
        "tweets_model.compile(loss= 'sparse_categorical_crossentropy',\n",
        "              optimizer= 'adam',\n",
        "              metrics = ['accuracy'])"
      ],
      "execution_count": 65,
      "outputs": []
    },
    {
      "cell_type": "code",
      "metadata": {
        "id": "HqgMrdvvqdgl",
        "outputId": "c55334db-aaee-40fe-9a28-0bde4025e6bc",
        "colab": {
          "base_uri": "https://localhost:8080/"
        }
      },
      "source": [
        "df['class'].unique()"
      ],
      "execution_count": 66,
      "outputs": [
        {
          "output_type": "execute_result",
          "data": {
            "text/plain": [
              "array([2, 1, 0])"
            ]
          },
          "metadata": {
            "tags": []
          },
          "execution_count": 66
        }
      ]
    },
    {
      "cell_type": "code",
      "metadata": {
        "id": "U1Puk8EfsDQI",
        "outputId": "5ac20afc-8bd3-4159-8ffa-c4f15fd52f3e",
        "colab": {
          "base_uri": "https://localhost:8080/"
        }
      },
      "source": [
        "mali_nn_model=tweets_model.fit(X_train,y_train,epochs=150 )"
      ],
      "execution_count": 67,
      "outputs": [
        {
          "output_type": "stream",
          "text": [
            "Epoch 1/150\n",
            "620/620 [==============================] - 1s 2ms/step - loss: 0.6929 - accuracy: 0.7729\n",
            "Epoch 2/150\n",
            "620/620 [==============================] - 1s 2ms/step - loss: 0.6754 - accuracy: 0.7744\n",
            "Epoch 3/150\n",
            "620/620 [==============================] - 1s 2ms/step - loss: 0.6701 - accuracy: 0.7743\n",
            "Epoch 4/150\n",
            "620/620 [==============================] - 1s 2ms/step - loss: 0.6717 - accuracy: 0.7746\n",
            "Epoch 5/150\n",
            "620/620 [==============================] - 1s 2ms/step - loss: 0.6766 - accuracy: 0.7744\n",
            "Epoch 6/150\n",
            "620/620 [==============================] - 1s 2ms/step - loss: 0.6744 - accuracy: 0.7741\n",
            "Epoch 7/150\n",
            "620/620 [==============================] - 1s 2ms/step - loss: 0.6731 - accuracy: 0.7745\n",
            "Epoch 8/150\n",
            "620/620 [==============================] - 1s 2ms/step - loss: 0.6769 - accuracy: 0.7743\n",
            "Epoch 9/150\n",
            "620/620 [==============================] - 1s 2ms/step - loss: 0.6770 - accuracy: 0.7745\n",
            "Epoch 10/150\n",
            "620/620 [==============================] - 1s 2ms/step - loss: 0.6735 - accuracy: 0.7742\n",
            "Epoch 11/150\n",
            "620/620 [==============================] - 1s 2ms/step - loss: 0.6717 - accuracy: 0.7745\n",
            "Epoch 12/150\n",
            "620/620 [==============================] - 2s 3ms/step - loss: 0.6736 - accuracy: 0.7745\n",
            "Epoch 13/150\n",
            "620/620 [==============================] - 1s 2ms/step - loss: 0.6716 - accuracy: 0.7746\n",
            "Epoch 14/150\n",
            "620/620 [==============================] - 1s 2ms/step - loss: 0.6732 - accuracy: 0.7744\n",
            "Epoch 15/150\n",
            "620/620 [==============================] - 1s 2ms/step - loss: 0.6740 - accuracy: 0.7746\n",
            "Epoch 16/150\n",
            "620/620 [==============================] - 1s 2ms/step - loss: 0.6728 - accuracy: 0.7746\n",
            "Epoch 17/150\n",
            "620/620 [==============================] - 1s 2ms/step - loss: 0.6696 - accuracy: 0.7746\n",
            "Epoch 18/150\n",
            "620/620 [==============================] - 1s 2ms/step - loss: 0.6733 - accuracy: 0.7745\n",
            "Epoch 19/150\n",
            "620/620 [==============================] - 1s 2ms/step - loss: 0.6739 - accuracy: 0.7745\n",
            "Epoch 20/150\n",
            "620/620 [==============================] - 1s 2ms/step - loss: 0.6718 - accuracy: 0.7745\n",
            "Epoch 21/150\n",
            "620/620 [==============================] - 1s 2ms/step - loss: 0.6698 - accuracy: 0.7746\n",
            "Epoch 22/150\n",
            "620/620 [==============================] - 1s 2ms/step - loss: 0.6723 - accuracy: 0.7746\n",
            "Epoch 23/150\n",
            "620/620 [==============================] - 1s 2ms/step - loss: 0.6737 - accuracy: 0.7744\n",
            "Epoch 24/150\n",
            "620/620 [==============================] - 1s 2ms/step - loss: 0.6722 - accuracy: 0.7746\n",
            "Epoch 25/150\n",
            "620/620 [==============================] - 1s 2ms/step - loss: 0.6700 - accuracy: 0.7746\n",
            "Epoch 26/150\n",
            "620/620 [==============================] - 1s 2ms/step - loss: 0.6707 - accuracy: 0.7746\n",
            "Epoch 27/150\n",
            "620/620 [==============================] - 1s 2ms/step - loss: 0.6720 - accuracy: 0.7745\n",
            "Epoch 28/150\n",
            "620/620 [==============================] - 1s 2ms/step - loss: 0.6690 - accuracy: 0.7746\n",
            "Epoch 29/150\n",
            "620/620 [==============================] - 1s 2ms/step - loss: 0.6726 - accuracy: 0.7746\n",
            "Epoch 30/150\n",
            "620/620 [==============================] - 1s 2ms/step - loss: 0.6707 - accuracy: 0.7746\n",
            "Epoch 31/150\n",
            "620/620 [==============================] - 1s 2ms/step - loss: 0.6727 - accuracy: 0.7746\n",
            "Epoch 32/150\n",
            "620/620 [==============================] - 1s 2ms/step - loss: 0.6734 - accuracy: 0.7746\n",
            "Epoch 33/150\n",
            "620/620 [==============================] - 1s 2ms/step - loss: 0.6703 - accuracy: 0.7746\n",
            "Epoch 34/150\n",
            "620/620 [==============================] - 1s 2ms/step - loss: 0.6711 - accuracy: 0.7746\n",
            "Epoch 35/150\n",
            "620/620 [==============================] - 1s 2ms/step - loss: 0.6705 - accuracy: 0.7746\n",
            "Epoch 36/150\n",
            "620/620 [==============================] - 1s 2ms/step - loss: 0.6702 - accuracy: 0.7746\n",
            "Epoch 37/150\n",
            "620/620 [==============================] - 1s 2ms/step - loss: 0.6743 - accuracy: 0.7746\n",
            "Epoch 38/150\n",
            "620/620 [==============================] - 1s 2ms/step - loss: 0.6726 - accuracy: 0.7746\n",
            "Epoch 39/150\n",
            "620/620 [==============================] - 1s 2ms/step - loss: 0.6706 - accuracy: 0.7746\n",
            "Epoch 40/150\n",
            "620/620 [==============================] - 1s 2ms/step - loss: 0.6726 - accuracy: 0.7746\n",
            "Epoch 41/150\n",
            "620/620 [==============================] - 1s 2ms/step - loss: 0.6721 - accuracy: 0.7746\n",
            "Epoch 42/150\n",
            "620/620 [==============================] - 1s 2ms/step - loss: 0.6734 - accuracy: 0.7746\n",
            "Epoch 43/150\n",
            "620/620 [==============================] - 1s 2ms/step - loss: 0.6706 - accuracy: 0.7746\n",
            "Epoch 44/150\n",
            "620/620 [==============================] - 1s 2ms/step - loss: 0.6702 - accuracy: 0.7746\n",
            "Epoch 45/150\n",
            "620/620 [==============================] - 1s 2ms/step - loss: 0.6701 - accuracy: 0.7746\n",
            "Epoch 46/150\n",
            "620/620 [==============================] - 1s 2ms/step - loss: 0.6702 - accuracy: 0.7746\n",
            "Epoch 47/150\n",
            "620/620 [==============================] - 1s 2ms/step - loss: 0.6709 - accuracy: 0.7746\n",
            "Epoch 48/150\n",
            "620/620 [==============================] - 1s 2ms/step - loss: 0.6704 - accuracy: 0.7746\n",
            "Epoch 49/150\n",
            "620/620 [==============================] - 1s 2ms/step - loss: 0.6716 - accuracy: 0.7746\n",
            "Epoch 50/150\n",
            "620/620 [==============================] - 1s 2ms/step - loss: 0.6727 - accuracy: 0.7746\n",
            "Epoch 51/150\n",
            "620/620 [==============================] - 1s 2ms/step - loss: 0.6695 - accuracy: 0.7746\n",
            "Epoch 52/150\n",
            "620/620 [==============================] - 1s 2ms/step - loss: 0.6696 - accuracy: 0.7746\n",
            "Epoch 53/150\n",
            "620/620 [==============================] - 1s 2ms/step - loss: 0.6725 - accuracy: 0.7746\n",
            "Epoch 54/150\n",
            "620/620 [==============================] - 1s 2ms/step - loss: 0.6723 - accuracy: 0.7746\n",
            "Epoch 55/150\n",
            "620/620 [==============================] - 1s 2ms/step - loss: 0.6703 - accuracy: 0.7746\n",
            "Epoch 56/150\n",
            "620/620 [==============================] - 1s 2ms/step - loss: 0.6722 - accuracy: 0.7746\n",
            "Epoch 57/150\n",
            "620/620 [==============================] - 1s 2ms/step - loss: 0.6711 - accuracy: 0.7746\n",
            "Epoch 58/150\n",
            "620/620 [==============================] - 1s 2ms/step - loss: 0.6710 - accuracy: 0.7746\n",
            "Epoch 59/150\n",
            "620/620 [==============================] - 1s 2ms/step - loss: 0.6702 - accuracy: 0.7746\n",
            "Epoch 60/150\n",
            "620/620 [==============================] - 1s 2ms/step - loss: 0.6706 - accuracy: 0.7746\n",
            "Epoch 61/150\n",
            "620/620 [==============================] - 1s 2ms/step - loss: 0.6723 - accuracy: 0.7746\n",
            "Epoch 62/150\n",
            "620/620 [==============================] - 1s 2ms/step - loss: 0.6720 - accuracy: 0.7746\n",
            "Epoch 63/150\n",
            "620/620 [==============================] - 1s 2ms/step - loss: 0.6702 - accuracy: 0.7746\n",
            "Epoch 64/150\n",
            "620/620 [==============================] - 1s 2ms/step - loss: 0.6742 - accuracy: 0.7746\n",
            "Epoch 65/150\n",
            "620/620 [==============================] - 1s 2ms/step - loss: 0.6725 - accuracy: 0.7746\n",
            "Epoch 66/150\n",
            "620/620 [==============================] - 1s 2ms/step - loss: 0.6699 - accuracy: 0.7746\n",
            "Epoch 67/150\n",
            "620/620 [==============================] - 1s 2ms/step - loss: 0.6709 - accuracy: 0.7746\n",
            "Epoch 68/150\n",
            "620/620 [==============================] - 1s 2ms/step - loss: 0.6727 - accuracy: 0.7746\n",
            "Epoch 69/150\n",
            "620/620 [==============================] - 1s 2ms/step - loss: 0.6708 - accuracy: 0.7746\n",
            "Epoch 70/150\n",
            "620/620 [==============================] - 1s 2ms/step - loss: 0.6708 - accuracy: 0.7746\n",
            "Epoch 71/150\n",
            "620/620 [==============================] - 1s 2ms/step - loss: 0.6718 - accuracy: 0.7746\n",
            "Epoch 72/150\n",
            "620/620 [==============================] - 1s 2ms/step - loss: 0.6708 - accuracy: 0.7746\n",
            "Epoch 73/150\n",
            "620/620 [==============================] - 1s 2ms/step - loss: 0.6729 - accuracy: 0.7746\n",
            "Epoch 74/150\n",
            "620/620 [==============================] - 1s 2ms/step - loss: 0.6708 - accuracy: 0.7746\n",
            "Epoch 75/150\n",
            "620/620 [==============================] - 1s 2ms/step - loss: 0.6724 - accuracy: 0.7746\n",
            "Epoch 76/150\n",
            "620/620 [==============================] - 1s 2ms/step - loss: 0.6720 - accuracy: 0.7746\n",
            "Epoch 77/150\n",
            "620/620 [==============================] - 1s 2ms/step - loss: 0.6757 - accuracy: 0.7746\n",
            "Epoch 78/150\n",
            "620/620 [==============================] - 1s 2ms/step - loss: 0.6716 - accuracy: 0.7746\n",
            "Epoch 79/150\n",
            "620/620 [==============================] - 1s 2ms/step - loss: 0.6769 - accuracy: 0.7746\n",
            "Epoch 80/150\n",
            "620/620 [==============================] - 1s 2ms/step - loss: 0.6692 - accuracy: 0.7746\n",
            "Epoch 81/150\n",
            "620/620 [==============================] - 1s 2ms/step - loss: 0.6708 - accuracy: 0.7746\n",
            "Epoch 82/150\n",
            "620/620 [==============================] - 1s 2ms/step - loss: 0.6701 - accuracy: 0.7746\n",
            "Epoch 83/150\n",
            "620/620 [==============================] - 1s 2ms/step - loss: 0.6731 - accuracy: 0.7746\n",
            "Epoch 84/150\n",
            "620/620 [==============================] - 1s 2ms/step - loss: 0.6711 - accuracy: 0.7746\n",
            "Epoch 85/150\n",
            "620/620 [==============================] - 1s 2ms/step - loss: 0.6730 - accuracy: 0.7746\n",
            "Epoch 86/150\n",
            "620/620 [==============================] - 1s 2ms/step - loss: 0.6698 - accuracy: 0.7746\n",
            "Epoch 87/150\n",
            "620/620 [==============================] - 1s 2ms/step - loss: 0.6731 - accuracy: 0.7746\n",
            "Epoch 88/150\n",
            "620/620 [==============================] - 1s 2ms/step - loss: 0.6756 - accuracy: 0.7746\n",
            "Epoch 89/150\n",
            "620/620 [==============================] - 1s 2ms/step - loss: 0.6692 - accuracy: 0.7746\n",
            "Epoch 90/150\n",
            "620/620 [==============================] - 1s 2ms/step - loss: 0.6693 - accuracy: 0.7746\n",
            "Epoch 91/150\n",
            "620/620 [==============================] - 1s 2ms/step - loss: 0.6737 - accuracy: 0.7746\n",
            "Epoch 92/150\n",
            "620/620 [==============================] - 1s 2ms/step - loss: 0.6722 - accuracy: 0.7746\n",
            "Epoch 93/150\n",
            "620/620 [==============================] - 1s 2ms/step - loss: 0.6710 - accuracy: 0.7746\n",
            "Epoch 94/150\n",
            "620/620 [==============================] - 1s 2ms/step - loss: 0.6692 - accuracy: 0.7746\n",
            "Epoch 95/150\n",
            "620/620 [==============================] - 1s 2ms/step - loss: 0.6709 - accuracy: 0.7746\n",
            "Epoch 96/150\n",
            "620/620 [==============================] - 1s 2ms/step - loss: 0.6714 - accuracy: 0.7746\n",
            "Epoch 97/150\n",
            "620/620 [==============================] - 1s 2ms/step - loss: 0.6710 - accuracy: 0.7746\n",
            "Epoch 98/150\n",
            "620/620 [==============================] - 1s 2ms/step - loss: 0.6716 - accuracy: 0.7746\n",
            "Epoch 99/150\n",
            "620/620 [==============================] - 1s 2ms/step - loss: 0.6690 - accuracy: 0.7746\n",
            "Epoch 100/150\n",
            "620/620 [==============================] - 1s 2ms/step - loss: 0.6702 - accuracy: 0.7746\n",
            "Epoch 101/150\n",
            "620/620 [==============================] - 1s 2ms/step - loss: 0.6716 - accuracy: 0.7746\n",
            "Epoch 102/150\n",
            "620/620 [==============================] - 1s 2ms/step - loss: 0.6734 - accuracy: 0.7746\n",
            "Epoch 103/150\n",
            "620/620 [==============================] - 1s 2ms/step - loss: 0.6711 - accuracy: 0.7746\n",
            "Epoch 104/150\n",
            "620/620 [==============================] - 1s 2ms/step - loss: 0.6715 - accuracy: 0.7746\n",
            "Epoch 105/150\n",
            "620/620 [==============================] - 1s 2ms/step - loss: 0.6727 - accuracy: 0.7746\n",
            "Epoch 106/150\n",
            "620/620 [==============================] - 1s 2ms/step - loss: 0.6719 - accuracy: 0.7746\n",
            "Epoch 107/150\n",
            "620/620 [==============================] - 1s 2ms/step - loss: 0.6707 - accuracy: 0.7746\n",
            "Epoch 108/150\n",
            "620/620 [==============================] - 1s 2ms/step - loss: 0.6732 - accuracy: 0.7746\n",
            "Epoch 109/150\n",
            "620/620 [==============================] - 1s 2ms/step - loss: 0.6707 - accuracy: 0.7746\n",
            "Epoch 110/150\n",
            "620/620 [==============================] - 1s 2ms/step - loss: 0.6703 - accuracy: 0.7746\n",
            "Epoch 111/150\n",
            "620/620 [==============================] - 1s 2ms/step - loss: 0.6723 - accuracy: 0.7746\n",
            "Epoch 112/150\n",
            "620/620 [==============================] - 1s 2ms/step - loss: 0.6716 - accuracy: 0.7746\n",
            "Epoch 113/150\n",
            "620/620 [==============================] - 1s 2ms/step - loss: 0.6714 - accuracy: 0.7746\n",
            "Epoch 114/150\n",
            "620/620 [==============================] - 1s 2ms/step - loss: 0.6727 - accuracy: 0.7746\n",
            "Epoch 115/150\n",
            "620/620 [==============================] - 1s 2ms/step - loss: 0.6705 - accuracy: 0.7746\n",
            "Epoch 116/150\n",
            "620/620 [==============================] - 1s 2ms/step - loss: 0.6710 - accuracy: 0.7746\n",
            "Epoch 117/150\n",
            "620/620 [==============================] - 1s 2ms/step - loss: 0.6714 - accuracy: 0.7746\n",
            "Epoch 118/150\n",
            "620/620 [==============================] - 1s 2ms/step - loss: 0.6704 - accuracy: 0.7746\n",
            "Epoch 119/150\n",
            "620/620 [==============================] - 1s 2ms/step - loss: 0.6703 - accuracy: 0.7746\n",
            "Epoch 120/150\n",
            "620/620 [==============================] - 1s 2ms/step - loss: 0.6698 - accuracy: 0.7746\n",
            "Epoch 121/150\n",
            "620/620 [==============================] - 1s 2ms/step - loss: 0.6721 - accuracy: 0.7746\n",
            "Epoch 122/150\n",
            "620/620 [==============================] - 1s 2ms/step - loss: 0.6715 - accuracy: 0.7746\n",
            "Epoch 123/150\n",
            "620/620 [==============================] - 1s 2ms/step - loss: 0.6713 - accuracy: 0.7746\n",
            "Epoch 124/150\n",
            "620/620 [==============================] - 1s 2ms/step - loss: 0.6714 - accuracy: 0.7746\n",
            "Epoch 125/150\n",
            "620/620 [==============================] - 1s 2ms/step - loss: 0.6689 - accuracy: 0.7746\n",
            "Epoch 126/150\n",
            "620/620 [==============================] - 1s 2ms/step - loss: 0.6716 - accuracy: 0.7746\n",
            "Epoch 127/150\n",
            "620/620 [==============================] - 1s 2ms/step - loss: 0.6704 - accuracy: 0.7746\n",
            "Epoch 128/150\n",
            "620/620 [==============================] - 1s 2ms/step - loss: 0.6732 - accuracy: 0.7746\n",
            "Epoch 129/150\n",
            "620/620 [==============================] - 1s 2ms/step - loss: 0.6709 - accuracy: 0.7746\n",
            "Epoch 130/150\n",
            "620/620 [==============================] - 1s 2ms/step - loss: 0.6735 - accuracy: 0.7746\n",
            "Epoch 131/150\n",
            "620/620 [==============================] - 1s 2ms/step - loss: 0.6713 - accuracy: 0.7746\n",
            "Epoch 132/150\n",
            "620/620 [==============================] - 1s 2ms/step - loss: 0.6691 - accuracy: 0.7746\n",
            "Epoch 133/150\n",
            "620/620 [==============================] - 1s 2ms/step - loss: 0.6724 - accuracy: 0.7746\n",
            "Epoch 134/150\n",
            "620/620 [==============================] - 1s 2ms/step - loss: 0.6700 - accuracy: 0.7746\n",
            "Epoch 135/150\n",
            "620/620 [==============================] - 1s 2ms/step - loss: 0.6714 - accuracy: 0.7746\n",
            "Epoch 136/150\n",
            "620/620 [==============================] - 1s 2ms/step - loss: 0.6736 - accuracy: 0.7746\n",
            "Epoch 137/150\n",
            "620/620 [==============================] - 1s 2ms/step - loss: 0.6715 - accuracy: 0.7746\n",
            "Epoch 138/150\n",
            "620/620 [==============================] - 1s 2ms/step - loss: 0.6720 - accuracy: 0.7746\n",
            "Epoch 139/150\n",
            "620/620 [==============================] - 1s 2ms/step - loss: 0.6719 - accuracy: 0.7746\n",
            "Epoch 140/150\n",
            "620/620 [==============================] - 1s 2ms/step - loss: 0.6725 - accuracy: 0.7746\n",
            "Epoch 141/150\n",
            "620/620 [==============================] - 1s 2ms/step - loss: 0.6741 - accuracy: 0.7746\n",
            "Epoch 142/150\n",
            "620/620 [==============================] - 1s 2ms/step - loss: 0.6715 - accuracy: 0.7746\n",
            "Epoch 143/150\n",
            "620/620 [==============================] - 1s 2ms/step - loss: 0.6720 - accuracy: 0.7746\n",
            "Epoch 144/150\n",
            "620/620 [==============================] - 1s 2ms/step - loss: 0.6705 - accuracy: 0.7746\n",
            "Epoch 145/150\n",
            "620/620 [==============================] - 1s 2ms/step - loss: 0.6743 - accuracy: 0.7746\n",
            "Epoch 146/150\n",
            "620/620 [==============================] - 1s 2ms/step - loss: 0.6732 - accuracy: 0.7746\n",
            "Epoch 147/150\n",
            "620/620 [==============================] - 1s 2ms/step - loss: 0.6737 - accuracy: 0.7746\n",
            "Epoch 148/150\n",
            "620/620 [==============================] - 1s 2ms/step - loss: 0.6736 - accuracy: 0.7746\n",
            "Epoch 149/150\n",
            "620/620 [==============================] - 1s 2ms/step - loss: 0.6713 - accuracy: 0.7746\n",
            "Epoch 150/150\n",
            "620/620 [==============================] - 1s 2ms/step - loss: 0.6690 - accuracy: 0.7746\n"
          ],
          "name": "stdout"
        }
      ]
    },
    {
      "cell_type": "code",
      "metadata": {
        "id": "qZTcbUXAqdhU",
        "outputId": "3a26e10c-6ed9-4107-f839-be343b3f925a",
        "colab": {
          "base_uri": "https://localhost:8080/"
        }
      },
      "source": [
        "mali_nn_model.history.keys()"
      ],
      "execution_count": 61,
      "outputs": [
        {
          "output_type": "execute_result",
          "data": {
            "text/plain": [
              "dict_keys(['loss', 'accuracy'])"
            ]
          },
          "metadata": {
            "tags": []
          },
          "execution_count": 61
        }
      ]
    },
    {
      "cell_type": "code",
      "metadata": {
        "id": "hLRoDoZ9toHS",
        "outputId": "e6c34920-cd22-430a-c726-54c12b3a656a",
        "colab": {
          "base_uri": "https://localhost:8080/",
          "height": 283
        }
      },
      "source": [
        "plt.plot(mali_nn_model.history['loss'])\n",
        "\n",
        "#plt.ylim([0,20])"
      ],
      "execution_count": 69,
      "outputs": [
        {
          "output_type": "execute_result",
          "data": {
            "text/plain": [
              "[<matplotlib.lines.Line2D at 0x7fd8762bac18>]"
            ]
          },
          "metadata": {
            "tags": []
          },
          "execution_count": 69
        },
        {
          "output_type": "display_data",
          "data": {
            "image/png": "[encoded data removed]",
            "text/plain": [
              "<Figure size 432x288 with 1 Axes>"
            ]
          },
          "metadata": {
            "tags": [],
            "needs_background": "light"
          }
        }
      ]
    },
    {
      "cell_type": "code",
      "metadata": {
        "id": "XJd2WYx9wUeg",
        "outputId": "2b746f44-3ab0-4bc4-f7aa-6d659dab8f0d",
        "colab": {
          "base_uri": "https://localhost:8080/",
          "height": 283
        }
      },
      "source": [
        "plt.plot(mali_nn_model.history['accuracy'])"
      ],
      "execution_count": 68,
      "outputs": [
        {
          "output_type": "execute_result",
          "data": {
            "text/plain": [
              "[<matplotlib.lines.Line2D at 0x7fd87675af28>]"
            ]
          },
          "metadata": {
            "tags": []
          },
          "execution_count": 68
        },
        {
          "output_type": "display_data",
          "data": {
            "image/png": "[encoded data removed]",
            "text/plain": [
              "<Figure size 432x288 with 1 Axes>"
            ]
          },
          "metadata": {
            "tags": [],
            "needs_background": "light"
          }
        }
      ]
    },
    {
      "cell_type": "code",
      "metadata": {
        "id": "22wBmey4xKqn"
      },
      "source": [
        ""
      ],
      "execution_count": null,
      "outputs": []
    }
  ]
}