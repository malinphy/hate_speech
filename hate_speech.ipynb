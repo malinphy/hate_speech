{
  "nbformat": 4,
  "nbformat_minor": 0,
  "metadata": {
    "accelerator": "GPU",
    "colab": {
      "name": "hate_speech.ipynb",
      "provenance": [],
      "collapsed_sections": [],
      "authorship_tag": "ABX9TyMhd3IYid5TwiVGmq24hi3l",
      "include_colab_link": true
    },
    "kernelspec": {
      "display_name": "Python 3",
      "language": "python",
      "name": "python3"
    },
    "language_info": {
      "codemirror_mode": {
        "name": "ipython",
        "version": 3
      },
      "file_extension": ".py",
      "mimetype": "text/x-python",
      "name": "python",
      "nbconvert_exporter": "python",
      "pygments_lexer": "ipython3",
      "version": "3.8.3"
    }
  },
  "cells": [
    {
      "cell_type": "markdown",
      "metadata": {
        "id": "view-in-github",
        "colab_type": "text"
      },
      "source": [
        "<a href=\"https://colab.research.google.com/github/malinphy/hate_speech/blob/main/hate_speech.ipynb\" target=\"_parent\"><img src=\"https://colab.research.google.com/assets/colab-badge.svg\" alt=\"Open In Colab\"/></a>"
      ]
    },
    {
      "cell_type": "code",
      "metadata": {
        "id": "pQ2fMzbzx-Bn"
      },
      "source": [
        "import numpy as np\n",
        "import pandas as pd\n",
        "import string\n",
        "import pandas as pd \n",
        "import numpy as np \n",
        "import re"
      ],
      "execution_count": 7,
      "outputs": []
    },
    {
      "cell_type": "code",
      "metadata": {
        "id": "IkaEzDor5J0J"
      },
      "source": [
        "\n",
        "\n"
      ],
      "execution_count": null,
      "outputs": []
    },
    {
      "cell_type": "code",
      "metadata": {
        "id": "T_Ti6TzzKriR"
      },
      "source": [
        "urlDavidson = 'https://raw.githubusercontent.com/t-davidson/hate-speech-and-offensive-language/master/data/labeled_data.csv'\n",
        "dataDavidson = pd.read_csv(urlDavidson)\n",
        "\n"
      ],
      "execution_count": 3,
      "outputs": []
    },
    {
      "cell_type": "code",
      "metadata": {
        "id": "stU7aRQDK6WG",
        "outputId": "9f8c8c66-be40-4261-9cd7-8f1073db1898",
        "colab": {
          "base_uri": "https://localhost:8080/",
          "height": 143
        }
      },
      "source": [
        "dataDavidson.head(3)"
      ],
      "execution_count": 4,
      "outputs": [
        {
          "output_type": "execute_result",
          "data": {
            "text/html": [
              "<div>\n",
              "<style scoped>\n",
              "    .dataframe tbody tr th:only-of-type {\n",
              "        vertical-align: middle;\n",
              "    }\n",
              "\n",
              "    .dataframe tbody tr th {\n",
              "        vertical-align: top;\n",
              "    }\n",
              "\n",
              "    .dataframe thead th {\n",
              "        text-align: right;\n",
              "    }\n",
              "</style>\n",
              "<table border=\"1\" class=\"dataframe\">\n",
              "  <thead>\n",
              "    <tr style=\"text-align: right;\">\n",
              "      <th></th>\n",
              "      <th>Unnamed: 0</th>\n",
              "      <th>count</th>\n",
              "      <th>hate_speech</th>\n",
              "      <th>offensive_language</th>\n",
              "      <th>neither</th>\n",
              "      <th>class</th>\n",
              "      <th>tweet</th>\n",
              "    </tr>\n",
              "  </thead>\n",
              "  <tbody>\n",
              "    <tr>\n",
              "      <th>0</th>\n",
              "      <td>0</td>\n",
              "      <td>3</td>\n",
              "      <td>0</td>\n",
              "      <td>0</td>\n",
              "      <td>3</td>\n",
              "      <td>2</td>\n",
              "      <td>!!! RT @mayasolovely: As a woman you shouldn't...</td>\n",
              "    </tr>\n",
              "    <tr>\n",
              "      <th>1</th>\n",
              "      <td>1</td>\n",
              "      <td>3</td>\n",
              "      <td>0</td>\n",
              "      <td>3</td>\n",
              "      <td>0</td>\n",
              "      <td>1</td>\n",
              "      <td>!!!!! RT @mleew17: boy dats cold...tyga dwn ba...</td>\n",
              "    </tr>\n",
              "    <tr>\n",
              "      <th>2</th>\n",
              "      <td>2</td>\n",
              "      <td>3</td>\n",
              "      <td>0</td>\n",
              "      <td>3</td>\n",
              "      <td>0</td>\n",
              "      <td>1</td>\n",
              "      <td>!!!!!!! RT @UrKindOfBrand Dawg!!!! RT @80sbaby...</td>\n",
              "    </tr>\n",
              "  </tbody>\n",
              "</table>\n",
              "</div>"
            ],
            "text/plain": [
              "   Unnamed: 0  count  ...  class                                              tweet\n",
              "0           0      3  ...      2  !!! RT @mayasolovely: As a woman you shouldn't...\n",
              "1           1      3  ...      1  !!!!! RT @mleew17: boy dats cold...tyga dwn ba...\n",
              "2           2      3  ...      1  !!!!!!! RT @UrKindOfBrand Dawg!!!! RT @80sbaby...\n",
              "\n",
              "[3 rows x 7 columns]"
            ]
          },
          "metadata": {
            "tags": []
          },
          "execution_count": 4
        }
      ]
    },
    {
      "cell_type": "code",
      "metadata": {
        "id": "DL1CVGYELtnq",
        "outputId": "7beee6f8-092a-4060-b562-7a4336c41cae",
        "colab": {
          "base_uri": "https://localhost:8080/"
        }
      },
      "source": [
        "dataDavidson.info()"
      ],
      "execution_count": 5,
      "outputs": [
        {
          "output_type": "stream",
          "text": [
            "<class 'pandas.core.frame.DataFrame'>\n",
            "RangeIndex: 24783 entries, 0 to 24782\n",
            "Data columns (total 7 columns):\n",
            " #   Column              Non-Null Count  Dtype \n",
            "---  ------              --------------  ----- \n",
            " 0   Unnamed: 0          24783 non-null  int64 \n",
            " 1   count               24783 non-null  int64 \n",
            " 2   hate_speech         24783 non-null  int64 \n",
            " 3   offensive_language  24783 non-null  int64 \n",
            " 4   neither             24783 non-null  int64 \n",
            " 5   class               24783 non-null  int64 \n",
            " 6   tweet               24783 non-null  object\n",
            "dtypes: int64(6), object(1)\n",
            "memory usage: 1.3+ MB\n"
          ],
          "name": "stdout"
        }
      ]
    },
    {
      "cell_type": "code",
      "metadata": {
        "id": "Od0TON8sM9e3",
        "outputId": "4d3d578e-d24c-40ee-9edb-9c49fa89fc20",
        "colab": {
          "base_uri": "https://localhost:8080/"
        }
      },
      "source": [
        "for i in range(10):\n",
        "    print(dataDavidson['tweet'][i])"
      ],
      "execution_count": 6,
      "outputs": [
        {
          "output_type": "stream",
          "text": [
            "!!! RT @mayasolovely: As a woman you shouldn't complain about cleaning up your house. &amp; as a man you should always take the trash out...\n",
            "!!!!! RT @mleew17: boy dats cold...tyga dwn bad for cuffin dat hoe in the 1st place!!\n",
            "!!!!!!! RT @UrKindOfBrand Dawg!!!! RT @80sbaby4life: You ever fuck a bitch and she start to cry? You be confused as shit\n",
            "!!!!!!!!! RT @C_G_Anderson: @viva_based she look like a tranny\n",
            "!!!!!!!!!!!!! RT @ShenikaRoberts: The shit you hear about me might be true or it might be faker than the bitch who told it to ya &#57361;\n",
            "!!!!!!!!!!!!!!!!!!\"@T_Madison_x: The shit just blows me..claim you so faithful and down for somebody but still fucking with hoes! &#128514;&#128514;&#128514;\"\n",
            "!!!!!!\"@__BrighterDays: I can not just sit up and HATE on another bitch .. I got too much shit going on!\"\n",
            "!!!!&#8220;@selfiequeenbri: cause I'm tired of you big bitches coming for us skinny girls!!&#8221;\n",
            "\" &amp; you might not get ya bitch back &amp; thats that \"\n",
            "\" @rhythmixx_ :hobbies include: fighting Mariam\"\n",
            "\n",
            "bitch\n"
          ],
          "name": "stdout"
        }
      ]
    },
    {
      "cell_type": "code",
      "metadata": {
        "id": "baoy0Zt-c4Dx",
        "outputId": "5e88e051-75af-4042-851f-969b667517bc",
        "colab": {
          "base_uri": "https://localhost:8080/"
        }
      },
      "source": [
        "# Regex for strip out url links\n",
        "\n",
        "for i in range(len(dataDavidson)):\n",
        "    dataDavidson['tweet'][i] = re.sub(r'\\w+:\\/{2}[\\d\\w-]+(\\.[\\d\\w-]+)*(?:(?:\\/[^\\s/]*))*', '', dataDavidson['tweet'][i])"
      ],
      "execution_count": 8,
      "outputs": [
        {
          "output_type": "stream",
          "text": [
            "/usr/local/lib/python3.6/dist-packages/ipykernel_launcher.py:4: SettingWithCopyWarning: \n",
            "A value is trying to be set on a copy of a slice from a DataFrame\n",
            "\n",
            "See the caveats in the documentation: https://pandas.pydata.org/pandas-docs/stable/user_guide/indexing.html#returning-a-view-versus-a-copy\n",
            "  after removing the cwd from sys.path.\n"
          ],
          "name": "stderr"
        }
      ]
    },
    {
      "cell_type": "code",
      "metadata": {
        "id": "mnAfjq1Srtw6"
      },
      "source": [
        "x  = [\":\"]\n",
        "\n",
        "re.findall(\":\",dataDavidson['tweet'][1]) == x\n",
        "number = []\n",
        "\n",
        "for i in range(len(dataDavidson)):\n",
        "    if  re.findall(\":\",dataDavidson['tweet'][i]) == x :\n",
        "        number.append(i)\n",
        "\n",
        "#(number)"
      ],
      "execution_count": 9,
      "outputs": []
    },
    {
      "cell_type": "code",
      "metadata": {
        "id": "av5t3TUIzCAf",
        "outputId": "a09c8d54-0614-4e8c-a54f-5c3c00d9f24f",
        "colab": {
          "base_uri": "https://localhost:8080/"
        }
      },
      "source": [
        "for i in number:\n",
        "    dataDavidson['tweet'][i] = re.split(\":\",dataDavidson['tweet'][i])[1]"
      ],
      "execution_count": 10,
      "outputs": [
        {
          "output_type": "stream",
          "text": [
            "/usr/local/lib/python3.6/dist-packages/ipykernel_launcher.py:2: SettingWithCopyWarning: \n",
            "A value is trying to be set on a copy of a slice from a DataFrame\n",
            "\n",
            "See the caveats in the documentation: https://pandas.pydata.org/pandas-docs/stable/user_guide/indexing.html#returning-a-view-versus-a-copy\n",
            "  \n"
          ],
          "name": "stderr"
        }
      ]
    },
    {
      "cell_type": "code",
      "metadata": {
        "id": "Bggc7iV_zB8F",
        "outputId": "b4822fd5-b1a6-49f8-fb98-c4572e22589a",
        "colab": {
          "base_uri": "https://localhost:8080/"
        }
      },
      "source": [
        "for i in range(len(dataDavidson)):\n",
        "\n",
        "\n",
        "    dataDavidson['tweet'][i] = re.sub(\"[0-9]|&|#|@|;|,|\\\"|\\?|\\.\",\"\",dataDavidson['tweet'][i])\n",
        "    dataDavidson['tweet'][i] = re.sub(\"[()|*]\",\"\",dataDavidson['tweet'][i])\n",
        "    dataDavidson['tweet'][i] = re.sub('\\'m',' am',dataDavidson['tweet'][i])\n",
        "    dataDavidson['tweet'][i] = re.sub('n\\'t',' not',dataDavidson['tweet'][i])\n",
        "    dataDavidson['tweet'][i] = re.sub('^[ \\t]+', \"\",dataDavidson['tweet'][i])\n",
        "\n",
        "    dataDavidson['tweet'][i] = re.sub(\"    \",\" \",dataDavidson['tweet'][i])\n",
        "    dataDavidson['tweet'][i] = re.sub(\"dont\",\"do not \",dataDavidson['tweet'][i])\n",
        "    \n",
        "#x"
      ],
      "execution_count": 11,
      "outputs": [
        {
          "output_type": "stream",
          "text": [
            "/usr/local/lib/python3.6/dist-packages/ipykernel_launcher.py:4: SettingWithCopyWarning: \n",
            "A value is trying to be set on a copy of a slice from a DataFrame\n",
            "\n",
            "See the caveats in the documentation: https://pandas.pydata.org/pandas-docs/stable/user_guide/indexing.html#returning-a-view-versus-a-copy\n",
            "  after removing the cwd from sys.path.\n",
            "/usr/local/lib/python3.6/dist-packages/ipykernel_launcher.py:5: SettingWithCopyWarning: \n",
            "A value is trying to be set on a copy of a slice from a DataFrame\n",
            "\n",
            "See the caveats in the documentation: https://pandas.pydata.org/pandas-docs/stable/user_guide/indexing.html#returning-a-view-versus-a-copy\n",
            "  \"\"\"\n",
            "/usr/local/lib/python3.6/dist-packages/ipykernel_launcher.py:6: SettingWithCopyWarning: \n",
            "A value is trying to be set on a copy of a slice from a DataFrame\n",
            "\n",
            "See the caveats in the documentation: https://pandas.pydata.org/pandas-docs/stable/user_guide/indexing.html#returning-a-view-versus-a-copy\n",
            "  \n",
            "/usr/local/lib/python3.6/dist-packages/ipykernel_launcher.py:7: SettingWithCopyWarning: \n",
            "A value is trying to be set on a copy of a slice from a DataFrame\n",
            "\n",
            "See the caveats in the documentation: https://pandas.pydata.org/pandas-docs/stable/user_guide/indexing.html#returning-a-view-versus-a-copy\n",
            "  import sys\n",
            "/usr/local/lib/python3.6/dist-packages/ipykernel_launcher.py:8: SettingWithCopyWarning: \n",
            "A value is trying to be set on a copy of a slice from a DataFrame\n",
            "\n",
            "See the caveats in the documentation: https://pandas.pydata.org/pandas-docs/stable/user_guide/indexing.html#returning-a-view-versus-a-copy\n",
            "  \n",
            "/usr/local/lib/python3.6/dist-packages/ipykernel_launcher.py:10: SettingWithCopyWarning: \n",
            "A value is trying to be set on a copy of a slice from a DataFrame\n",
            "\n",
            "See the caveats in the documentation: https://pandas.pydata.org/pandas-docs/stable/user_guide/indexing.html#returning-a-view-versus-a-copy\n",
            "  # Remove the CWD from sys.path while we load stuff.\n",
            "/usr/local/lib/python3.6/dist-packages/ipykernel_launcher.py:11: SettingWithCopyWarning: \n",
            "A value is trying to be set on a copy of a slice from a DataFrame\n",
            "\n",
            "See the caveats in the documentation: https://pandas.pydata.org/pandas-docs/stable/user_guide/indexing.html#returning-a-view-versus-a-copy\n",
            "  # This is added back by InteractiveShellApp.init_path()\n"
          ],
          "name": "stderr"
        }
      ]
    },
    {
      "cell_type": "code",
      "metadata": {
        "id": "RcZ245L8zB4g",
        "outputId": "43220bfb-1f15-4b9d-d25f-a3d3e923d1b0",
        "colab": {
          "base_uri": "https://localhost:8080/"
        }
      },
      "source": [
        "for i in range(50,100):\n",
        "    print(dataDavidson['tweet'][i])"
      ],
      "execution_count": 12,
      "outputs": [
        {
          "output_type": "stream",
          "text": [
            "we do not  trust these niggas all these bitches \n",
            "yall niggas b cuffing hoes cause yall aint never have bitches \n",
            "All da bitches I cut off pregnant or bound to be thank God \n",
            "young Pill Chamberlain these bitches love my music \n",
            "Teanna Trump probably cleaner than most of these twitter hoes but\n",
            "Gay niggas could not wait to act like bitches tonight\n",
            "The_Paradox: And ima steal his cat n replace it with a pitbull  RT sbabylife: The_Paradox He a bitch you should do it\n",
            "amp he's gone always be a hoe\n",
            "Son of a bitch took my Tic Tacs\n",
            "\n",
            "I like this movie\n",
            "All I wanna do is get money and fuck model bitches! - Russell Simmons\n",
            "I probably wouldnt mind school as much if we didnt have to deal with bitch ass teachers Retweet\n",
            "I am a fucking fag they said\n",
            "Females think dating a pussy is cute now  how does doing this stuff make him a pussy\n",
            "-SimplyAddictedToGuys  woof woof hot scally lad\n",
            "Have ya ever asked your bitch for other bitches - kanye voice Yes\n",
            "How u gone bring ur side bitch to a game where You know Ya gf friends at !  I SWEAR!!!!!\n",
            "woof woof and hot soles\n",
            "Lemmie eat a Oreo amp do these dishes One oreo Lol\n",
            "JetsAndASwisher Gook____ bitch fuck u  maybe you'll get better Just \n",
            "Fuck Red Malone man bitch ass niggah could you please use complete sentences\n",
            "Why the eggplant emoji doey he say she looked like scream lmao\n",
            "Hennessey Venom GT   that's one sexy bitch\n",
            "Him seh me pussy wetter then a shower curtainahmesehwetnessltlmao!!\n",
            "Eaglesnation and every Eagles need to see that pic I just posted because that bitch just said the most racist shit\n",
            "Yo fuck skateboarding all y'all some wood pushing faggots man ball is life \n",
            "AmJemieBenn\n",
            "baby monkey bathtime \n",
            "Awwwwe! This is soooo ADORABLE!\n",
            "I ai not shit  Damn Skippy lol\n",
            "u ever kill a ant on the sidewalk and think damn what if that nigga was on his way to get some pussyNo bs must b gt%chance\n",
            "_KudaBrazyy   rings  mvps  bitches lol\n",
            "ppl talk bad about the ghetto/hood  but as a kid growing up a nigga had funnnnnnn !\n",
            "The facts on tattoostattoo  he's a pussy with not tattooing them nipples\n",
            "RT nel_ayden Bitches be wanting to act like niggas so bad  that shit aint cuteeeee but niggas act like bitches\n",
            "Get worshiping bitch!  woof woof\n",
            "Wow RT thatmanpalmer I am lost Are those buttcheek piercings  yeah she's a hoe\n",
            "Ok sis She'd rather be a broke bitch shrugs she'll have to tell me how it works for her\n",
            "WhaleLookyHere HowdyDowdy queer gaywad\n",
            "ItsNotAdam faggot read my tweets after dat k it was not even funny lol\n",
            "This bitch was so ungrateful  fr  LULWHORE\n",
            "I been kidnapped yo bitch\n",
            "white_thunduh alsarabsss hes a beaner smh you can tell hes a mexican\n",
            "AydanMcCoy happy birthday nigs Thanks yo\n",
            "when ur teacher tells u that u have homework  this bitch need to go!!!\n",
            "CaelanG: EdHam: CaelanG that nigga was eating that hoe lol Hell Yea lol john Paul nigga said john paul \n",
            "What would y'all lil ugly bald headed bitches do if they stop making make-up amp weave\n",
            "Leafs better win this damn game so I can go riot and shit EarlyChristmas you better start looting my nig\n",
            "Going back to school sucks more dick than the hoes who attend it\n",
            "On my way to fuck yo bitch  me as a  year old\n",
            "white_thunduh how come you never bring me food i do not  have a car retard\n",
            "If Richnow does not show up with hella tinder hoes Im not his friend anymore chill I brought like like  prople\n",
            "How bout them Cowboys!!!! Shutup pussy\n"
          ],
          "name": "stdout"
        }
      ]
    },
    {
      "cell_type": "code",
      "metadata": {
        "id": "U8R_8WrquebO"
      },
      "source": [
        ""
      ],
      "execution_count": 12,
      "outputs": []
    },
    {
      "cell_type": "code",
      "metadata": {
        "id": "laMlNc6HylvU"
      },
      "source": [
        ""
      ],
      "execution_count": null,
      "outputs": []
    },
    {
      "cell_type": "code",
      "metadata": {
        "id": "eVxaAF-CwsL1",
        "outputId": "f445bc9d-9bef-4b3b-d52a-c73fc103d3b1",
        "colab": {
          "base_uri": "https://localhost:8080/",
          "height": 35
        }
      },
      "source": [
        ""
      ],
      "execution_count": null,
      "outputs": [
        {
          "output_type": "execute_result",
          "data": {
            "text/plain": [
              "(9,)"
            ]
          },
          "metadata": {
            "tags": []
          },
          "execution_count": 15
        }
      ]
    },
    {
      "cell_type": "code",
      "metadata": {
        "id": "Feexvj1o07CP"
      },
      "source": [
        ""
      ],
      "execution_count": null,
      "outputs": []
    },
    {
      "cell_type": "code",
      "metadata": {
        "id": "U1Puk8EfsDQI"
      },
      "source": [
        "#for i in range(len(tweets)):\n",
        "#    tweets_c[i]=(tweets[i].partition(\":\")[2]).replace(\":\",\"\").lower().replace(\"\\\"\",\"\").replace(\"&\",\"\").replace(\";\",\"\").replace(\"#\",\"\").replace(\"@\",\"\").replace(\"!\",\"\").replace(\"?\",\"\").replace(\".\",\"\")\n",
        "    \n",
        "\n",
        "#for i in range(len(tweets)):\n",
        "#    tweets_c[i]=tweets[i].lower().replace(\"rt\",\"\").replace(\":\",\"\").replace(\"\\\"\",\"\").replace(\"&\",\"\").replace(\";\",\"\").replace(\"#\",\"\").replace(\"@\",\"\").replace(\"!\",\"\").replace(\"?\",\"\").replace(\".\",\"\")\n",
        "    \n",
        "\n",
        "#from nltk.corpus import stopwords\n",
        "#from string import punctuation\n",
        "#import nltk\n",
        "#from nltk.corpus import stopwords\n",
        "#nltk.download('stopwords')\n",
        "#from nltk.tokenize import word_tokenize\n",
        "#nltk.download('punkt')\n",
        "\n",
        "\n",
        "## approx 20 min to run\n",
        "#tweetsOutOfSW =[]\n",
        "#for i in tweets_c:\n",
        "#    flag = word_tokenize(i)\n",
        "#    v_without_sw = [word for word in flag if not word in stopwords.words()]\n",
        "    \n",
        "#    tweetsOutOfSW.append(v_without_sw)\n",
        "\n",
        "#np.array(tweetsOutOfSW[1]).shape"
      ],
      "execution_count": null,
      "outputs": []
    }
  ]
}