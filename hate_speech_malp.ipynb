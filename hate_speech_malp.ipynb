{
  "nbformat": 4,
  "nbformat_minor": 0,
  "metadata": {
    "colab": {
      "name": "hate_speech_malp.ipynb",
      "provenance": [],
      "collapsed_sections": [],
      "include_colab_link": true
    },
    "kernelspec": {
      "display_name": "Python 3",
      "language": "python",
      "name": "python3"
    },
    "language_info": {
      "codemirror_mode": {
        "name": "ipython",
        "version": 3
      },
      "file_extension": ".py",
      "mimetype": "text/x-python",
      "name": "python",
      "nbconvert_exporter": "python",
      "pygments_lexer": "ipython3",
      "version": "3.8.3"
    },
    "accelerator": "GPU"
  },
  "cells": [
    {
      "cell_type": "markdown",
      "metadata": {
        "id": "view-in-github",
        "colab_type": "text"
      },
      "source": [
        "<a href=\"https://colab.research.google.com/github/malinphy/hate_speech/blob/main/hate_speech_malp.ipynb\" target=\"_parent\"><img src=\"https://colab.research.google.com/assets/colab-badge.svg\" alt=\"Open In Colab\"/></a>"
      ]
    },
    {
      "cell_type": "code",
      "metadata": {
        "id": "pQ2fMzbzx-Bn"
      },
      "source": [
        "import os \n",
        "import sys\n",
        "import numpy as np \n",
        "import pandas as pd \n",
        "import matplotlib.pyplot as plt \n",
        "import re\n",
        "import seaborn as sns\n",
        "\n",
        "import tensorflow as tf \n",
        "from tensorflow import keras\n",
        "from tensorflow.keras import Sequential\n",
        "from tensorflow.keras import layers\n",
        "from tensorflow.keras.layers import Dense \n",
        "from tensorflow.keras.layers import MaxPooling1D\n",
        "from tensorflow.keras.preprocessing.text import Tokenizer\n",
        "from tensorflow.keras.preprocessing.sequence import pad_sequences \n",
        "# from tensorflow.keras.preprocessing.layers Flatten\n",
        "\n",
        "from sklearn.model_selection import train_test_split\n",
        "from sklearn.preprocessing import LabelBinarizer\n",
        "\n",
        "import nltk\n",
        "from nltk.stem import PorterStemmer\n",
        "from nltk.tokenize import sent_tokenize, word_tokenize\n",
        "from collections import Counter\n",
        "from nltk.corpus import stopwords \n",
        "from nltk.tokenize import word_tokenize "
      ],
      "execution_count": 1,
      "outputs": []
    },
    {
      "cell_type": "code",
      "metadata": {
        "id": "T_Ti6TzzKriR"
      },
      "source": [
        "url = 'https://raw.githubusercontent.com/t-davidson/hate-speech-and-offensive-language/master/data/labeled_data.csv'\n",
        "\n",
        "df = pd.read_csv(url)\n",
        "\n",
        " "
      ],
      "execution_count": 2,
      "outputs": []
    },
    {
      "cell_type": "code",
      "metadata": {
        "id": "IkaEzDor5J0J",
        "colab": {
          "base_uri": "https://localhost:8080/",
          "height": 164
        },
        "outputId": "cf21f3c2-ea9a-4e6e-f721-bde31435f44f"
      },
      "source": [
        "df.head(2)"
      ],
      "execution_count": 3,
      "outputs": [
        {
          "output_type": "execute_result",
          "data": {
            "text/html": [
              "<div>\n",
              "<style scoped>\n",
              "    .dataframe tbody tr th:only-of-type {\n",
              "        vertical-align: middle;\n",
              "    }\n",
              "\n",
              "    .dataframe tbody tr th {\n",
              "        vertical-align: top;\n",
              "    }\n",
              "\n",
              "    .dataframe thead th {\n",
              "        text-align: right;\n",
              "    }\n",
              "</style>\n",
              "<table border=\"1\" class=\"dataframe\">\n",
              "  <thead>\n",
              "    <tr style=\"text-align: right;\">\n",
              "      <th></th>\n",
              "      <th>Unnamed: 0</th>\n",
              "      <th>count</th>\n",
              "      <th>hate_speech</th>\n",
              "      <th>offensive_language</th>\n",
              "      <th>neither</th>\n",
              "      <th>class</th>\n",
              "      <th>tweet</th>\n",
              "    </tr>\n",
              "  </thead>\n",
              "  <tbody>\n",
              "    <tr>\n",
              "      <th>0</th>\n",
              "      <td>0</td>\n",
              "      <td>3</td>\n",
              "      <td>0</td>\n",
              "      <td>0</td>\n",
              "      <td>3</td>\n",
              "      <td>2</td>\n",
              "      <td>!!! RT @mayasolovely: As a woman you shouldn't...</td>\n",
              "    </tr>\n",
              "    <tr>\n",
              "      <th>1</th>\n",
              "      <td>1</td>\n",
              "      <td>3</td>\n",
              "      <td>0</td>\n",
              "      <td>3</td>\n",
              "      <td>0</td>\n",
              "      <td>1</td>\n",
              "      <td>!!!!! RT @mleew17: boy dats cold...tyga dwn ba...</td>\n",
              "    </tr>\n",
              "  </tbody>\n",
              "</table>\n",
              "</div>"
            ],
            "text/plain": [
              "   Unnamed: 0  count  ...  class                                              tweet\n",
              "0           0      3  ...      2  !!! RT @mayasolovely: As a woman you shouldn't...\n",
              "1           1      3  ...      1  !!!!! RT @mleew17: boy dats cold...tyga dwn ba...\n",
              "\n",
              "[2 rows x 7 columns]"
            ]
          },
          "metadata": {
            "tags": []
          },
          "execution_count": 3
        }
      ]
    },
    {
      "cell_type": "code",
      "metadata": {
        "id": "aDrQXnUq0eOj",
        "colab": {
          "base_uri": "https://localhost:8080/",
          "height": 54
        },
        "outputId": "4af9ed26-b02a-4ca1-db85-95961c997b1f"
      },
      "source": [
        "df['tweet'][4]"
      ],
      "execution_count": 4,
      "outputs": [
        {
          "output_type": "execute_result",
          "data": {
            "application/vnd.google.colaboratory.intrinsic+json": {
              "type": "string"
            },
            "text/plain": [
              "'!!!!!!!!!!!!! RT @ShenikaRoberts: The shit you hear about me might be true or it might be faker than the bitch who told it to ya &#57361;'"
            ]
          },
          "metadata": {
            "tags": []
          },
          "execution_count": 4
        }
      ]
    },
    {
      "cell_type": "markdown",
      "metadata": {
        "id": "stU7aRQDK6WG",
        "outputId": "1ab42526-2721-4833-809f-bc1be0ceb5a8"
      },
      "source": [
        "plt.hist(df['hate_speech'])"
      ]
    },
    {
      "cell_type": "markdown",
      "metadata": {
        "id": "DL1CVGYELtnq",
        "outputId": "6bc31851-5ec7-43d2-ba64-ce6a5986964b"
      },
      "source": [
        "plt.hist(df['count'])"
      ]
    },
    {
      "cell_type": "markdown",
      "metadata": {
        "id": "Od0TON8sM9e3",
        "outputId": "63788a65-3822-419e-ddb1-89310f8720ac"
      },
      "source": [
        "plt.hist(df['offensive_language'])"
      ]
    },
    {
      "cell_type": "code",
      "metadata": {
        "id": "baoy0Zt-c4Dx"
      },
      "source": [
        "tweets_mali = df['tweet'].copy()\n",
        "tweets = df.tweet"
      ],
      "execution_count": 5,
      "outputs": []
    },
    {
      "cell_type": "code",
      "metadata": {
        "id": "uQJsw1sdqdZA"
      },
      "source": [
        "def word_counter(x):\n",
        "    \n",
        "    splitter = []\n",
        "    for i in x:\n",
        "        var1 = i.split()\n",
        "        for j in var1:\n",
        "            splitter.append(j)\n",
        "            \n",
        "    word_number_count = Counter(splitter).most_common()\n",
        "    \n",
        "    words = []\n",
        "    words_number = []\n",
        "    \n",
        "    for i in word_number_count:\n",
        "        words.append(i[0])\n",
        "        words_number.append(i[1])\n",
        "    \n",
        "    \n",
        "    words = words[0:50]\n",
        "    words_number = words_number[0:50]\n",
        "    return words,words_number"
      ],
      "execution_count": 6,
      "outputs": []
    },
    {
      "cell_type": "code",
      "metadata": {
        "id": "Z3I2E9r-qdZO",
        "colab": {
          "base_uri": "https://localhost:8080/",
          "height": 772
        },
        "outputId": "535252d6-fc02-47c9-82a9-59e94cde2a68"
      },
      "source": [
        "X,y = word_counter(tweets)\n",
        "plt.style.use('ggplot')\n",
        "fig = plt.figure(figsize=(14,12))\n",
        "\n",
        "plt.bar(X,y, \n",
        "        color='maroon',\n",
        "        alpha = 0.8,\n",
        "        # width = 1\n",
        "        )\n",
        "\n",
        "plt.xticks(rotation=90)\n",
        "\n",
        "plt.title(\"Most common words \")\n",
        "plt.xlabel(\"Words\")\n",
        "plt.ylabel('Frequencey')\n",
        "plt.show"
      ],
      "execution_count": 7,
      "outputs": [
        {
          "output_type": "execute_result",
          "data": {
            "text/plain": [
              "<function matplotlib.pyplot.show>"
            ]
          },
          "metadata": {
            "tags": []
          },
          "execution_count": 7
        },
        {
          "output_type": "display_data",
          "data": {
            "image/png": "[encoded data removed]",
            "text/plain": [
              "<Figure size 1008x864 with 1 Axes>"
            ]
          },
          "metadata": {
            "tags": []
          }
        }
      ]
    },
    {
      "cell_type": "code",
      "metadata": {
        "id": "laMlNc6HylvU"
      },
      "source": [
        "numberOfWords = [] \n",
        "\n",
        "for i in range(len(tweets)):\n",
        "    x = len(tweets_mali[i].split())\n",
        "    numberOfWords.append(x)"
      ],
      "execution_count": 8,
      "outputs": []
    },
    {
      "cell_type": "code",
      "metadata": {
        "id": "av5t3TUIzCAf",
        "colab": {
          "base_uri": "https://localhost:8080/",
          "height": 592
        },
        "outputId": "7ffa7bcf-b7f9-4df1-c2f0-71758668a3df"
      },
      "source": [
        "plt.figure(figsize=(12,8))\n",
        "sns.distplot(numberOfWords, 50  , color=\"orange\")\n",
        "plt.xlabel('Length of a sample')\n",
        "plt.ylabel('Number of samples')\n",
        "plt.title('Sample length distribution')\n",
        "#plt.xlim([-100,6000])"
      ],
      "execution_count": 9,
      "outputs": [
        {
          "output_type": "stream",
          "text": [
            "/usr/local/lib/python3.6/dist-packages/seaborn/distributions.py:2551: FutureWarning: `distplot` is a deprecated function and will be removed in a future version. Please adapt your code to use either `displot` (a figure-level function with similar flexibility) or `histplot` (an axes-level function for histograms).\n",
            "  warnings.warn(msg, FutureWarning)\n"
          ],
          "name": "stderr"
        },
        {
          "output_type": "execute_result",
          "data": {
            "text/plain": [
              "Text(0.5, 1.0, 'Sample length distribution')"
            ]
          },
          "metadata": {
            "tags": []
          },
          "execution_count": 9
        },
        {
          "output_type": "display_data",
          "data": {
            "image/png": "[encoded data removed]",
            "text/plain": [
              "<Figure size 864x576 with 1 Axes>"
            ]
          },
          "metadata": {
            "tags": []
          }
        }
      ]
    },
    {
      "cell_type": "code",
      "metadata": {
        "id": "mnAfjq1Srtw6"
      },
      "source": [
        "def tweets_cleaner (tweets_mali) :\n",
        "  for i in range(len(tweets)):\n",
        "      tweets_mali[i] = re.sub(r'\\w+:\\/{2}[\\d\\w-]+(\\.[\\d\\w-]+)*(?:(?:\\/[^\\s/]*))*', '', tweets_mali[i]) # regex command to strip url links\n",
        "      tweets_mali[i] = re.sub('\\s+', ' ',tweets_mali[i]) # regex command to rearrange space pattern\n",
        "      tweets_mali[i] = re.sub('@[\\w\\-]+','',tweets_mali[i]) # regex command to strip the mentions \n",
        "    \n",
        "  return (tweets_mali)\n",
        "    \n",
        "    \n",
        "def tweets_cleaner2(tweets_mali):\n",
        "\n",
        "  RT_pattern = []\n",
        "    \n",
        "  for i in range(len(tweets)):\n",
        "      x = re.findall(\":\",tweets_mali[i])\n",
        "      if x == [':']:\n",
        "          RT_pattern.append(i)\n",
        "    \n",
        "  for i in (RT_pattern):\n",
        "      # regex command to strip the RT!! pattern\n",
        "      tweets_mali[i] = re.split(\":\",tweets_mali[i])[1]\n",
        "    \n",
        "  for i in range (len(tweets)):\n",
        "      tweets_mali[i] = re.sub(\"!|@|[.]|:|,|[0-9]|#|&|;|[|]|[\\\"]\", \"\",tweets_mali[i])\n",
        "      tweets_mali[i] = tweets_mali[i].lower()\n",
        "      #tweets_mali[i] = re.sub(\"[0-9],\",tweets_mali[i]\")\n",
        "\n",
        "  return (tweets_mali)"
      ],
      "execution_count": 10,
      "outputs": []
    },
    {
      "cell_type": "code",
      "metadata": {
        "id": "nyNjYLWKwlVN"
      },
      "source": [
        "clean_tweets  = tweets_cleaner(tweets_mali)\r\n",
        "clean_tweets_final  = tweets_cleaner2(clean_tweets) "
      ],
      "execution_count": 11,
      "outputs": []
    },
    {
      "cell_type": "code",
      "metadata": {
        "colab": {
          "base_uri": "https://localhost:8080/"
        },
        "id": "IOAl-EUSxWfE",
        "outputId": "a535f7a1-01ed-48d0-feaa-a2c24b320269"
      },
      "source": [
        "tweets_mali"
      ],
      "execution_count": 12,
      "outputs": [
        {
          "output_type": "execute_result",
          "data": {
            "text/plain": [
              "0         as a woman you shouldn't complain about clean...\n",
              "1         boy dats coldtyga dwn bad for cuffin dat hoe ...\n",
              "2         you ever fuck a bitch and she start to cry? y...\n",
              "3                                   she look like a tranny\n",
              "4         the shit you hear about me might be true or i...\n",
              "                               ...                        \n",
              "24778       right his tl is trash  now mine? bible scri...\n",
              "24779    you've gone and broke the wrong heart baby and...\n",
              "24780    young buck wanna eat dat nigguh like i aint fu...\n",
              "24781                youu got wild bitches tellin you lies\n",
              "24782    ~~ruffled  ntac eileen dahlia - beautiful colo...\n",
              "Name: tweet, Length: 24783, dtype: object"
            ]
          },
          "metadata": {
            "tags": []
          },
          "execution_count": 12
        }
      ]
    },
    {
      "cell_type": "code",
      "metadata": {
        "id": "Bggc7iV_zB8F",
        "colab": {
          "base_uri": "https://localhost:8080/",
          "height": 662
        },
        "outputId": "0d388c45-47e6-46b7-9bf6-d6c3a69b9743"
      },
      "source": [
        "X_clean,y_clean = word_counter(clean_tweets_final)\n",
        "\n",
        "plt.figure(figsize=(15,10))\n",
        "sns.barplot(X_clean,y_clean, palette=\"Blues_r\")\n",
        "plt.xticks(rotation=90)\n",
        "plt.show"
      ],
      "execution_count": 13,
      "outputs": [
        {
          "output_type": "stream",
          "text": [
            "/usr/local/lib/python3.6/dist-packages/seaborn/_decorators.py:43: FutureWarning: Pass the following variables as keyword args: x, y. From version 0.12, the only valid positional argument will be `data`, and passing other arguments without an explicit keyword will result in an error or misinterpretation.\n",
            "  FutureWarning\n"
          ],
          "name": "stderr"
        },
        {
          "output_type": "execute_result",
          "data": {
            "text/plain": [
              "<function matplotlib.pyplot.show>"
            ]
          },
          "metadata": {
            "tags": []
          },
          "execution_count": 13
        },
        {
          "output_type": "display_data",
          "data": {
            "image/png": "[encoded data removed]",
            "text/plain": [
              "<Figure size 1080x720 with 1 Axes>"
            ]
          },
          "metadata": {
            "tags": []
          }
        }
      ]
    },
    {
      "cell_type": "code",
      "metadata": {
        "id": "j8WH8X89V1Np",
        "colab": {
          "base_uri": "https://localhost:8080/"
        },
        "outputId": "1e6fdae3-1327-41a5-ab62-03fb4cf1036a"
      },
      "source": [
        "df['class'].unique()"
      ],
      "execution_count": 14,
      "outputs": [
        {
          "output_type": "execute_result",
          "data": {
            "text/plain": [
              "array([2, 1, 0])"
            ]
          },
          "metadata": {
            "tags": []
          },
          "execution_count": 14
        }
      ]
    },
    {
      "cell_type": "code",
      "metadata": {
        "id": "RcZ245L8zB4g",
        "colab": {
          "base_uri": "https://localhost:8080/"
        },
        "outputId": "6552b5ce-5f0d-4196-d33d-d45f0d6cb8c0"
      },
      "source": [
        "LB= LabelBinarizer()\n",
        "y= LB.fit_transform(df['class'])\n",
        "np.unique(y)"
      ],
      "execution_count": 15,
      "outputs": [
        {
          "output_type": "execute_result",
          "data": {
            "text/plain": [
              "array([0, 1])"
            ]
          },
          "metadata": {
            "tags": []
          },
          "execution_count": 15
        }
      ]
    },
    {
      "cell_type": "code",
      "metadata": {
        "id": "zemdPL2PvtMd",
        "colab": {
          "base_uri": "https://localhost:8080/"
        },
        "outputId": "d6013f4e-a28d-4d76-94fb-0153538c08e8"
      },
      "source": [
        "tf_tokenizer = Tokenizer()\n",
        "tokens = tf_tokenizer.fit_on_texts(clean_tweets_final)\n",
        "max_length = len(tf_tokenizer.word_index)\n",
        "\n",
        "total_seq = tf_tokenizer.texts_to_sequences(clean_tweets_final)\n",
        "\n",
        "len_of_seq = []\n",
        "\n",
        "\n",
        "[len_of_seq.append(len(i)) for i in total_seq]\n",
        "max_length\n",
        "\n",
        "longest_tweet = np.max(len_of_seq)\n",
        "longest_tweet"
      ],
      "execution_count": 16,
      "outputs": [
        {
          "output_type": "execute_result",
          "data": {
            "text/plain": [
              "33"
            ]
          },
          "metadata": {
            "tags": []
          },
          "execution_count": 16
        }
      ]
    },
    {
      "cell_type": "code",
      "metadata": {
        "id": "Qs3BMTE_wnuk"
      },
      "source": [
        "padded_seq = pad_sequences(total_seq, maxlen = longest_tweet+1, padding= 'post')"
      ],
      "execution_count": 17,
      "outputs": []
    },
    {
      "cell_type": "code",
      "metadata": {
        "id": "U8R_8WrquebO"
      },
      "source": [
        "from sklearn.model_selection import train_test_split\r\n",
        "x_train, x_test, y_train, y_test = train_test_split(\r\n",
        "                                                    padded_seq, \r\n",
        "                                                    y, \r\n",
        "                                                    train_size = 0.8,\r\n",
        "                                                    random_state= 42\r\n",
        "                                                    )"
      ],
      "execution_count": 18,
      "outputs": []
    },
    {
      "cell_type": "code",
      "metadata": {
        "id": "bbGXRndT2p7q",
        "colab": {
          "base_uri": "https://localhost:8080/"
        },
        "outputId": "f861c545-5683-41e1-87e2-63a2df67b920"
      },
      "source": [
        "x_train.shape, x_test.shape, y_train.shape, y_test.shape"
      ],
      "execution_count": 19,
      "outputs": [
        {
          "output_type": "execute_result",
          "data": {
            "text/plain": [
              "((19826, 34), (4957, 34), (19826, 3), (4957, 3))"
            ]
          },
          "metadata": {
            "tags": []
          },
          "execution_count": 19
        }
      ]
    },
    {
      "cell_type": "code",
      "metadata": {
        "id": "eVxaAF-CwsL1"
      },
      "source": [
        "tf_model = keras.Sequential()\n",
        "tf_model.add(layers.Embedding(25000,300, input_length = longest_tweet+1) ) # belki +1  eklerim\n",
        "tf_model.add(MaxPooling1D(pool_size =2 ))\n",
        "tf_model.add(layers.Flatten())\n",
        "tf_model.add(layers.Dense(20,activation = 'relu'))\n",
        "tf_model.add(layers.Dense(3, activation = 'softmax'))"
      ],
      "execution_count": 20,
      "outputs": []
    },
    {
      "cell_type": "code",
      "metadata": {
        "id": "NKsjPn3UNdfT"
      },
      "source": [
        "tf_model.compile(\r\n",
        "                  loss= 'categorical_crossentropy',\r\n",
        "                  optimizer = 'adam',\r\n",
        "                  #optimizer = 'adam(lr = 0.001)',\r\n",
        "                  metrics = ['accuracy']\r\n",
        ")"
      ],
      "execution_count": 21,
      "outputs": []
    },
    {
      "cell_type": "code",
      "metadata": {
        "id": "Feexvj1o07CP",
        "colab": {
          "base_uri": "https://localhost:8080/"
        },
        "outputId": "1d761fc6-c1b5-4373-be4a-738faed4e295"
      },
      "source": [
        "tf_model.summary()"
      ],
      "execution_count": 22,
      "outputs": [
        {
          "output_type": "stream",
          "text": [
            "Model: \"sequential\"\n",
            "_________________________________________________________________\n",
            "Layer (type)                 Output Shape              Param #   \n",
            "=================================================================\n",
            "embedding (Embedding)        (None, 34, 300)           7500000   \n",
            "_________________________________________________________________\n",
            "max_pooling1d (MaxPooling1D) (None, 17, 300)           0         \n",
            "_________________________________________________________________\n",
            "flatten (Flatten)            (None, 5100)              0         \n",
            "_________________________________________________________________\n",
            "dense (Dense)                (None, 20)                102020    \n",
            "_________________________________________________________________\n",
            "dense_1 (Dense)              (None, 3)                 63        \n",
            "=================================================================\n",
            "Total params: 7,602,083\n",
            "Trainable params: 7,602,083\n",
            "Non-trainable params: 0\n",
            "_________________________________________________________________\n"
          ],
          "name": "stdout"
        }
      ]
    },
    {
      "cell_type": "code",
      "metadata": {
        "id": "vLXXXtPIqdfN",
        "colab": {
          "base_uri": "https://localhost:8080/"
        },
        "outputId": "cd54cbaf-2274-419d-a257-c5569366f014"
      },
      "source": [
        "tf_model_history = tf_model.fit(x_train,y_train, epochs=50)"
      ],
      "execution_count": 23,
      "outputs": [
        {
          "output_type": "stream",
          "text": [
            "Epoch 1/50\n",
            "620/620 [==============================] - 45s 72ms/step - loss: 0.4038 - accuracy: 0.8560\n",
            "Epoch 2/50\n",
            "620/620 [==============================] - 44s 72ms/step - loss: 0.1897 - accuracy: 0.9318\n",
            "Epoch 3/50\n",
            "620/620 [==============================] - 44s 72ms/step - loss: 0.0780 - accuracy: 0.9743\n",
            "Epoch 4/50\n",
            "620/620 [==============================] - 44s 72ms/step - loss: 0.0347 - accuracy: 0.9889\n",
            "Epoch 5/50\n",
            "620/620 [==============================] - 44s 72ms/step - loss: 0.0210 - accuracy: 0.9933\n",
            "Epoch 6/50\n",
            "620/620 [==============================] - 45s 72ms/step - loss: 0.0178 - accuracy: 0.9939\n",
            "Epoch 7/50\n",
            "620/620 [==============================] - 45s 72ms/step - loss: 0.0154 - accuracy: 0.9947\n",
            "Epoch 8/50\n",
            "620/620 [==============================] - 45s 72ms/step - loss: 0.0140 - accuracy: 0.9951\n",
            "Epoch 9/50\n",
            "620/620 [==============================] - 45s 72ms/step - loss: 0.0137 - accuracy: 0.9949\n",
            "Epoch 10/50\n",
            "620/620 [==============================] - 45s 72ms/step - loss: 0.0119 - accuracy: 0.9955\n",
            "Epoch 11/50\n",
            "620/620 [==============================] - 44s 71ms/step - loss: 0.0119 - accuracy: 0.9960\n",
            "Epoch 12/50\n",
            "620/620 [==============================] - 44s 72ms/step - loss: 0.0115 - accuracy: 0.9957\n",
            "Epoch 13/50\n",
            "620/620 [==============================] - 44s 71ms/step - loss: 0.0108 - accuracy: 0.9958\n",
            "Epoch 14/50\n",
            "620/620 [==============================] - 44s 71ms/step - loss: 0.0105 - accuracy: 0.9959\n",
            "Epoch 15/50\n",
            "620/620 [==============================] - 44s 72ms/step - loss: 0.0098 - accuracy: 0.9960\n",
            "Epoch 16/50\n",
            "620/620 [==============================] - 44s 71ms/step - loss: 0.0107 - accuracy: 0.9953\n",
            "Epoch 17/50\n",
            "620/620 [==============================] - 44s 71ms/step - loss: 0.0106 - accuracy: 0.9959\n",
            "Epoch 18/50\n",
            "620/620 [==============================] - 44s 71ms/step - loss: 0.0104 - accuracy: 0.9958\n",
            "Epoch 19/50\n",
            "620/620 [==============================] - 43s 70ms/step - loss: 0.0085 - accuracy: 0.9964\n",
            "Epoch 20/50\n",
            "620/620 [==============================] - 43s 70ms/step - loss: 0.0084 - accuracy: 0.9963\n",
            "Epoch 21/50\n",
            "620/620 [==============================] - 43s 70ms/step - loss: 0.0085 - accuracy: 0.9961\n",
            "Epoch 22/50\n",
            "620/620 [==============================] - 44s 70ms/step - loss: 0.0091 - accuracy: 0.9955\n",
            "Epoch 23/50\n",
            "620/620 [==============================] - 44s 70ms/step - loss: 0.0085 - accuracy: 0.9959\n",
            "Epoch 24/50\n",
            "620/620 [==============================] - 43s 70ms/step - loss: 0.0080 - accuracy: 0.9961\n",
            "Epoch 25/50\n",
            "620/620 [==============================] - 43s 70ms/step - loss: 0.0083 - accuracy: 0.9957\n",
            "Epoch 26/50\n",
            "620/620 [==============================] - 44s 70ms/step - loss: 0.0077 - accuracy: 0.9963\n",
            "Epoch 27/50\n",
            "620/620 [==============================] - 44s 70ms/step - loss: 0.0077 - accuracy: 0.9959\n",
            "Epoch 28/50\n",
            "620/620 [==============================] - 43s 69ms/step - loss: 0.0075 - accuracy: 0.9958\n",
            "Epoch 29/50\n",
            "620/620 [==============================] - 44s 71ms/step - loss: 0.0073 - accuracy: 0.9961\n",
            "Epoch 30/50\n",
            "620/620 [==============================] - 45s 73ms/step - loss: 0.0085 - accuracy: 0.9963\n",
            "Epoch 31/50\n",
            "620/620 [==============================] - 45s 73ms/step - loss: 0.0073 - accuracy: 0.9962\n",
            "Epoch 32/50\n",
            "620/620 [==============================] - 44s 71ms/step - loss: 0.0072 - accuracy: 0.9960\n",
            "Epoch 33/50\n",
            "620/620 [==============================] - 44s 71ms/step - loss: 0.0076 - accuracy: 0.9958\n",
            "Epoch 34/50\n",
            "620/620 [==============================] - 44s 71ms/step - loss: 0.0070 - accuracy: 0.9962\n",
            "Epoch 35/50\n",
            "620/620 [==============================] - 44s 71ms/step - loss: 0.0071 - accuracy: 0.9961\n",
            "Epoch 36/50\n",
            "620/620 [==============================] - 44s 71ms/step - loss: 0.0076 - accuracy: 0.9961\n",
            "Epoch 37/50\n",
            "620/620 [==============================] - 44s 71ms/step - loss: 0.0070 - accuracy: 0.9963\n",
            "Epoch 38/50\n",
            "620/620 [==============================] - 44s 71ms/step - loss: 0.0068 - accuracy: 0.9961\n",
            "Epoch 39/50\n",
            "620/620 [==============================] - 44s 71ms/step - loss: 0.0069 - accuracy: 0.9963\n",
            "Epoch 40/50\n",
            "620/620 [==============================] - 44s 71ms/step - loss: 0.0067 - accuracy: 0.9962\n",
            "Epoch 41/50\n",
            "620/620 [==============================] - 44s 71ms/step - loss: 0.0065 - accuracy: 0.9963\n",
            "Epoch 42/50\n",
            "620/620 [==============================] - 44s 71ms/step - loss: 0.0080 - accuracy: 0.9963\n",
            "Epoch 43/50\n",
            "620/620 [==============================] - 44s 71ms/step - loss: 0.0066 - accuracy: 0.9967\n",
            "Epoch 44/50\n",
            "620/620 [==============================] - 44s 71ms/step - loss: 0.0064 - accuracy: 0.9965\n",
            "Epoch 45/50\n",
            "620/620 [==============================] - 44s 71ms/step - loss: 0.0067 - accuracy: 0.9965\n",
            "Epoch 46/50\n",
            "620/620 [==============================] - 44s 71ms/step - loss: 0.0071 - accuracy: 0.9960\n",
            "Epoch 47/50\n",
            "620/620 [==============================] - 44s 71ms/step - loss: 0.0066 - accuracy: 0.9965\n",
            "Epoch 48/50\n",
            "620/620 [==============================] - 44s 71ms/step - loss: 0.0064 - accuracy: 0.9967\n",
            "Epoch 49/50\n",
            "620/620 [==============================] - 44s 72ms/step - loss: 0.0068 - accuracy: 0.9965\n",
            "Epoch 50/50\n",
            "620/620 [==============================] - 44s 72ms/step - loss: 0.0067 - accuracy: 0.9968\n"
          ],
          "name": "stdout"
        }
      ]
    },
    {
      "cell_type": "code",
      "metadata": {
        "id": "jJ-zhXF0qdfa",
        "colab": {
          "base_uri": "https://localhost:8080/",
          "height": 300
        },
        "outputId": "17d259bf-32dd-4fe8-ed39-ba63fcf706a9"
      },
      "source": [
        "plt.plot(tf_model_history.history['loss'])\n",
        "plt.xlabel('# of epochs')\n",
        "plt.ylabel('Loss')\n",
        "# plt.title('Sample length distribution')\n",
        "plt.xlim([0,20])"
      ],
      "execution_count": 30,
      "outputs": [
        {
          "output_type": "execute_result",
          "data": {
            "text/plain": [
              "(0.0, 20.0)"
            ]
          },
          "metadata": {
            "tags": []
          },
          "execution_count": 30
        },
        {
          "output_type": "display_data",
          "data": {
            "image/png": "[encoded data removed]",
            "text/plain": [
              "<Figure size 432x288 with 1 Axes>"
            ]
          },
          "metadata": {
            "tags": []
          }
        }
      ]
    },
    {
      "cell_type": "code",
      "metadata": {
        "id": "rTrgxJUcom3M",
        "colab": {
          "base_uri": "https://localhost:8080/",
          "height": 300
        },
        "outputId": "58e9fdcf-d24c-4501-e915-31019da138b6"
      },
      "source": [
        "plt.plot(tf_model_history.history['accuracy'])\r\n",
        "plt.xlabel('# of epochs')\r\n",
        "plt.ylabel('Accuracy')\r\n",
        "plt.xlim([0,30])"
      ],
      "execution_count": 31,
      "outputs": [
        {
          "output_type": "execute_result",
          "data": {
            "text/plain": [
              "(0.0, 30.0)"
            ]
          },
          "metadata": {
            "tags": []
          },
          "execution_count": 31
        },
        {
          "output_type": "display_data",
          "data": {
            "image/png": "[encoded data removed]",
            "text/plain": [
              "<Figure size 432x288 with 1 Axes>"
            ]
          },
          "metadata": {
            "tags": []
          }
        }
      ]
    },
    {
      "cell_type": "code",
      "metadata": {
        "id": "hXruPGWZqdfi"
      },
      "source": [
        ""
      ],
      "execution_count": 25,
      "outputs": []
    },
    {
      "cell_type": "code",
      "metadata": {
        "id": "2-2MRsfkqdfy"
      },
      "source": [
        ""
      ],
      "execution_count": 25,
      "outputs": []
    },
    {
      "cell_type": "code",
      "metadata": {
        "id": "V5qn-xXGyj94"
      },
      "source": [
        ""
      ],
      "execution_count": 25,
      "outputs": []
    },
    {
      "cell_type": "code",
      "metadata": {
        "id": "_rtmnxQnyj6d"
      },
      "source": [
        ""
      ],
      "execution_count": 25,
      "outputs": []
    },
    {
      "cell_type": "code",
      "metadata": {
        "id": "OL8swN5zqdgD"
      },
      "source": [
        ""
      ],
      "execution_count": 25,
      "outputs": []
    },
    {
      "cell_type": "code",
      "metadata": {
        "id": "oPIWCHTiqdgS"
      },
      "source": [
        ""
      ],
      "execution_count": 25,
      "outputs": []
    },
    {
      "cell_type": "code",
      "metadata": {
        "id": "HqgMrdvvqdgl"
      },
      "source": [
        ""
      ],
      "execution_count": 25,
      "outputs": []
    },
    {
      "cell_type": "code",
      "metadata": {
        "id": "U1Puk8EfsDQI"
      },
      "source": [
        ""
      ],
      "execution_count": 25,
      "outputs": []
    },
    {
      "cell_type": "code",
      "metadata": {
        "id": "qZTcbUXAqdhU"
      },
      "source": [
        ""
      ],
      "execution_count": 25,
      "outputs": []
    },
    {
      "cell_type": "code",
      "metadata": {
        "id": "-NdCZqCZcf5k"
      },
      "source": [
        ""
      ],
      "execution_count": 25,
      "outputs": []
    },
    {
      "cell_type": "code",
      "metadata": {
        "id": "hLRoDoZ9toHS"
      },
      "source": [
        ""
      ],
      "execution_count": 25,
      "outputs": []
    },
    {
      "cell_type": "code",
      "metadata": {
        "id": "XJd2WYx9wUeg"
      },
      "source": [
        ""
      ],
      "execution_count": 25,
      "outputs": []
    },
    {
      "cell_type": "code",
      "metadata": {
        "id": "22wBmey4xKqn"
      },
      "source": [
        ""
      ],
      "execution_count": 25,
      "outputs": []
    },
    {
      "cell_type": "code",
      "metadata": {
        "id": "1m335najPopX"
      },
      "source": [
        ""
      ],
      "execution_count": 25,
      "outputs": []
    },
    {
      "cell_type": "code",
      "metadata": {
        "id": "Tl-NMuz7Pol4"
      },
      "source": [
        ""
      ],
      "execution_count": 25,
      "outputs": []
    },
    {
      "cell_type": "code",
      "metadata": {
        "id": "JNSuI5iMPoh_"
      },
      "source": [
        ""
      ],
      "execution_count": 25,
      "outputs": []
    },
    {
      "cell_type": "code",
      "metadata": {
        "id": "L43RD2IXPoe6"
      },
      "source": [
        ""
      ],
      "execution_count": 25,
      "outputs": []
    },
    {
      "cell_type": "code",
      "metadata": {
        "id": "s90P1mJePoaK"
      },
      "source": [
        ""
      ],
      "execution_count": 25,
      "outputs": []
    },
    {
      "cell_type": "code",
      "metadata": {
        "id": "YZw2vl_lPoWf"
      },
      "source": [
        ""
      ],
      "execution_count": 25,
      "outputs": []
    },
    {
      "cell_type": "code",
      "metadata": {
        "id": "mC3cRyHIPoSx"
      },
      "source": [
        ""
      ],
      "execution_count": 25,
      "outputs": []
    },
    {
      "cell_type": "code",
      "metadata": {
        "id": "J_-XQ5mmPoQP"
      },
      "source": [
        ""
      ],
      "execution_count": 25,
      "outputs": []
    },
    {
      "cell_type": "code",
      "metadata": {
        "id": "gm-ZRwOLPoLL"
      },
      "source": [
        ""
      ],
      "execution_count": 25,
      "outputs": []
    },
    {
      "cell_type": "code",
      "metadata": {
        "id": "sEwLUbhKPoHs"
      },
      "source": [
        ""
      ],
      "execution_count": 25,
      "outputs": []
    },
    {
      "cell_type": "code",
      "metadata": {
        "id": "7KT09vW4PoDh"
      },
      "source": [
        ""
      ],
      "execution_count": 25,
      "outputs": []
    },
    {
      "cell_type": "code",
      "metadata": {
        "id": "6hFlShYxPn37"
      },
      "source": [
        ""
      ],
      "execution_count": 25,
      "outputs": []
    }
  ]
}